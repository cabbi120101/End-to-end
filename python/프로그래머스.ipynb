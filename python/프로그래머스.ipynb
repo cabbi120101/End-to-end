{
  "nbformat": 4,
  "nbformat_minor": 0,
  "metadata": {
    "colab": {
      "name": "프로그래머스.ipynb",
      "provenance": [],
      "collapsed_sections": [],
      "authorship_tag": "ABX9TyM+k3N8tYiisA6Znlfq10rC",
      "include_colab_link": true
    },
    "kernelspec": {
      "name": "python3",
      "display_name": "Python 3"
    },
    "language_info": {
      "name": "python"
    }
  },
  "cells": [
    {
      "cell_type": "markdown",
      "metadata": {
        "id": "view-in-github",
        "colab_type": "text"
      },
      "source": [
        "<a href=\"https://colab.research.google.com/github/cabbi120101/End-to-end/blob/master/python/%ED%94%84%EB%A1%9C%EA%B7%B8%EB%9E%98%EB%A8%B8%EC%8A%A4.ipynb\" target=\"_parent\"><img src=\"https://colab.research.google.com/assets/colab-badge.svg\" alt=\"Open In Colab\"/></a>"
      ]
    },
    {
      "cell_type": "markdown",
      "metadata": {
        "id": "y14_lzt8h5MD"
      },
      "source": [
        "1단계 아이디 추천"
      ]
    },
    {
      "cell_type": "code",
      "metadata": {
        "id": "14W8XAREh2q3"
      },
      "source": [
        "import re\n",
        "\n",
        "def solution(new_id):\n",
        "    # 1단계\n",
        "    new_id = new_id.lower()\n",
        "    \n",
        "    # 2단계\n",
        "    # new_id = ''.join(filter(str.isalnum, new_id))\n",
        "    new_id = re.sub(\"[^a-z0-9\\-\\_\\.]\",\"\",new_id)\n",
        "    \n",
        "    #3단계\n",
        "    while '..' in new_id:\n",
        "        new_id = new_id.replace('..','.')\n",
        "    \n",
        "    #4단계\n",
        "    if len(new_id) != 0 and new_id[0] == '.':\n",
        "        new_id = new_id[1:]\n",
        "            \n",
        "    if len(new_id) != 0 and new_id[-1] == '.':\n",
        "        new_id = new_id[:-1]\n",
        "    \n",
        "        \n",
        "    # 5단계\n",
        "    if len(new_id) == 0:\n",
        "        new_id = 'a'\n",
        "        \n",
        "    # 6단계\n",
        "    if len(new_id) >= 16:\n",
        "        new_id = new_id[:15]\n",
        "        \n",
        "    if new_id[-1] == '.':\n",
        "        new_id = new_id[:-1]\n",
        "    \n",
        "    # 7단계\n",
        "    while len(new_id) <= 2:\n",
        "        new_id = new_id + new_id[-1]\n",
        "    \n",
        "    return new_id"
      ],
      "execution_count": null,
      "outputs": []
    }
  ]
}