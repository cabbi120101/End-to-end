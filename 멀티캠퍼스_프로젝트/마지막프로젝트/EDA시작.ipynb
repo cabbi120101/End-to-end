{
  "nbformat": 4,
  "nbformat_minor": 0,
  "metadata": {
    "colab": {
      "name": "EDA시작.ipynb",
      "provenance": [],
      "collapsed_sections": [],
      "mount_file_id": "1sP3TDUmchKFN6dVFXvJs6ZSi4So7uGEZ",
      "authorship_tag": "ABX9TyO431KK7wIDX9GXhFg1YjzQ",
      "include_colab_link": true
    },
    "kernelspec": {
      "name": "python3",
      "display_name": "Python 3"
    },
    "language_info": {
      "name": "python"
    }
  },
  "cells": [
    {
      "cell_type": "markdown",
      "metadata": {
        "id": "view-in-github",
        "colab_type": "text"
      },
      "source": [
        "<a href=\"https://colab.research.google.com/github/cabbi120101/End-to-end/blob/master/%EB%A9%80%ED%8B%B0%EC%BA%A0%ED%8D%BC%EC%8A%A4_%ED%94%84%EB%A1%9C%EC%A0%9D%ED%8A%B8/%EB%A7%88%EC%A7%80%EB%A7%89%ED%94%84%EB%A1%9C%EC%A0%9D%ED%8A%B8/EDA%EC%8B%9C%EC%9E%91.ipynb\" target=\"_parent\"><img src=\"https://colab.research.google.com/assets/colab-badge.svg\" alt=\"Open In Colab\"/></a>"
      ]
    },
    {
      "cell_type": "code",
      "metadata": {
        "id": "5IZTJXtLMKuY"
      },
      "source": [
        "import ast\n",
        "import json\n",
        "import os\n",
        "from tqdm.notebook import tqdm\n",
        "import pandas as pd"
      ],
      "execution_count": 2,
      "outputs": []
    },
    {
      "cell_type": "code",
      "metadata": {
        "colab": {
          "base_uri": "https://localhost:8080/",
          "height": 204
        },
        "id": "6Ch_IZfeMR81",
        "outputId": "cff47faf-52b2-49b5-d5fd-dfa039b1bde1"
      },
      "source": [
        "data = pd.read_csv(\"/content/drive/MyDrive/Colab Notebooks/동욱코드모음/마지막프로젝트/3주차/시도/match_data_version1_match_info.csv\")\n",
        "data.head()"
      ],
      "execution_count": 3,
      "outputs": [
        {
          "output_type": "execute_result",
          "data": {
            "text/html": [
              "<div>\n",
              "<style scoped>\n",
              "    .dataframe tbody tr th:only-of-type {\n",
              "        vertical-align: middle;\n",
              "    }\n",
              "\n",
              "    .dataframe tbody tr th {\n",
              "        vertical-align: top;\n",
              "    }\n",
              "\n",
              "    .dataframe thead th {\n",
              "        text-align: right;\n",
              "    }\n",
              "</style>\n",
              "<table border=\"1\" class=\"dataframe\">\n",
              "  <thead>\n",
              "    <tr style=\"text-align: right;\">\n",
              "      <th></th>\n",
              "      <th>gameCreation</th>\n",
              "      <th>gameDuration</th>\n",
              "      <th>gameId</th>\n",
              "      <th>gameMode</th>\n",
              "      <th>gameType</th>\n",
              "      <th>gameVersion</th>\n",
              "      <th>mapId</th>\n",
              "      <th>platformId</th>\n",
              "      <th>queueId</th>\n",
              "      <th>seasonId</th>\n",
              "      <th>status.message</th>\n",
              "      <th>status.status_code</th>\n",
              "    </tr>\n",
              "  </thead>\n",
              "  <tbody>\n",
              "    <tr>\n",
              "      <th>0</th>\n",
              "      <td>1.585155e+12</td>\n",
              "      <td>1323.0</td>\n",
              "      <td>4.247263e+09</td>\n",
              "      <td>CLASSIC</td>\n",
              "      <td>MATCHED_GAME</td>\n",
              "      <td>10.6.314.4405</td>\n",
              "      <td>11.0</td>\n",
              "      <td>KR</td>\n",
              "      <td>420.0</td>\n",
              "      <td>13.0</td>\n",
              "      <td>NaN</td>\n",
              "      <td>NaN</td>\n",
              "    </tr>\n",
              "    <tr>\n",
              "      <th>1</th>\n",
              "      <td>1.585152e+12</td>\n",
              "      <td>1317.0</td>\n",
              "      <td>4.247156e+09</td>\n",
              "      <td>CLASSIC</td>\n",
              "      <td>MATCHED_GAME</td>\n",
              "      <td>10.6.314.4405</td>\n",
              "      <td>11.0</td>\n",
              "      <td>KR</td>\n",
              "      <td>420.0</td>\n",
              "      <td>13.0</td>\n",
              "      <td>NaN</td>\n",
              "      <td>NaN</td>\n",
              "    </tr>\n",
              "    <tr>\n",
              "      <th>2</th>\n",
              "      <td>1.585059e+12</td>\n",
              "      <td>932.0</td>\n",
              "      <td>4.243963e+09</td>\n",
              "      <td>CLASSIC</td>\n",
              "      <td>MATCHED_GAME</td>\n",
              "      <td>10.6.313.8894</td>\n",
              "      <td>11.0</td>\n",
              "      <td>KR</td>\n",
              "      <td>420.0</td>\n",
              "      <td>13.0</td>\n",
              "      <td>NaN</td>\n",
              "      <td>NaN</td>\n",
              "    </tr>\n",
              "    <tr>\n",
              "      <th>3</th>\n",
              "      <td>1.584978e+12</td>\n",
              "      <td>2098.0</td>\n",
              "      <td>4.241678e+09</td>\n",
              "      <td>CLASSIC</td>\n",
              "      <td>MATCHED_GAME</td>\n",
              "      <td>10.6.313.8894</td>\n",
              "      <td>11.0</td>\n",
              "      <td>KR</td>\n",
              "      <td>420.0</td>\n",
              "      <td>13.0</td>\n",
              "      <td>NaN</td>\n",
              "      <td>NaN</td>\n",
              "    </tr>\n",
              "    <tr>\n",
              "      <th>4</th>\n",
              "      <td>1.584973e+12</td>\n",
              "      <td>2344.0</td>\n",
              "      <td>4.241539e+09</td>\n",
              "      <td>CLASSIC</td>\n",
              "      <td>MATCHED_GAME</td>\n",
              "      <td>10.6.313.8894</td>\n",
              "      <td>11.0</td>\n",
              "      <td>KR</td>\n",
              "      <td>420.0</td>\n",
              "      <td>13.0</td>\n",
              "      <td>NaN</td>\n",
              "      <td>NaN</td>\n",
              "    </tr>\n",
              "  </tbody>\n",
              "</table>\n",
              "</div>"
            ],
            "text/plain": [
              "   gameCreation  gameDuration  ...  status.message status.status_code\n",
              "0  1.585155e+12        1323.0  ...             NaN                NaN\n",
              "1  1.585152e+12        1317.0  ...             NaN                NaN\n",
              "2  1.585059e+12         932.0  ...             NaN                NaN\n",
              "3  1.584978e+12        2098.0  ...             NaN                NaN\n",
              "4  1.584973e+12        2344.0  ...             NaN                NaN\n",
              "\n",
              "[5 rows x 12 columns]"
            ]
          },
          "metadata": {},
          "execution_count": 3
        }
      ]
    },
    {
      "cell_type": "code",
      "metadata": {
        "colab": {
          "base_uri": "https://localhost:8080/"
        },
        "id": "N3BcwY2MNGYy",
        "outputId": "034f0b18-37e1-46e3-d05e-1ac27fb7cc0d"
      },
      "source": [
        "for col in ('gameMode', 'gameType', 'gameVersion', 'mapId', 'platformId', 'queueId', 'seasonId'):\n",
        "    print(f\"{col}: {data[col].unique()}\")\n",
        "    print()"
      ],
      "execution_count": 4,
      "outputs": [
        {
          "output_type": "stream",
          "name": "stdout",
          "text": [
            "gameMode: ['CLASSIC' 'ARAM' 'ONEFORALL' 'URF' 'TUTORIAL_MODULE_3'\n",
            " 'TUTORIAL_MODULE_1' 'KINGPORO' 'TUTORIAL_MODULE_2']\n",
            "\n",
            "gameType: ['MATCHED_GAME']\n",
            "\n",
            "gameVersion: ['10.6.314.4405' '10.6.313.8894' '10.6.313.2784' '10.5.312.392'\n",
            " '10.5.311.166' '10.4.308.9400' '10.3.307.7898' '10.3.307.1028'\n",
            " '10.2.305.4739' '10.1.303.9385' '9.24.300.6382' '9.23.299.3089'\n",
            " '9.23.298.8833' '9.22.296.5720' '10.1.303.6554' '9.13.280.4632'\n",
            " '9.21.294.813' '9.22.296.1221' '9.20.292.2452' '9.14.282.3231'\n",
            " '9.23.298.3143' '9.19.290.8808' '9.23.298.6855' '9.18.288.7871'\n",
            " '9.17.287.9350' '9.15.283.4011' '9.17.287.2485' '9.10.274.8345'\n",
            " '9.8.270.9450' '8.19.246.5109' '9.12.277.6038' '9.16.284.8446'\n",
            " '9.1.257.7563' '9.11.275.6613' '9.18.289.6958' '9.16.286.4937'\n",
            " '9.18.288.4125' '9.9.272.4950' '8.24.255.8524' '9.3.261.9578'\n",
            " '8.17.243.3340' '9.19.290.4926' '8.20.249.1952' '9.10.273.9316'\n",
            " '9.4.264.1140' '8.16.241.6543' '9.5.265.6479' '9.14.282.267'\n",
            " '9.7.270.125' '9.13.279.7717' '9.2.260.6714' '9.6.267.4221'\n",
            " '8.11.231.7304' '8.9.227.7511' '9.2.261.2172' '8.20.248.3196'\n",
            " '9.4.264.7309' '8.9.228.4283' '9.6.268.2663' '8.11.232.8721'\n",
            " '9.7.269.2391' '8.15.239.9021' '9.17.286.7872' '8.18.244.9800'\n",
            " '8.18.245.7444' '8.22.252.2691' '9.14.282.2273' '8.21.251.4430'\n",
            " '8.13.235.9749' '8.10.229.7328' '8.21.250.2733' '8.21.250.9462'\n",
            " '8.8.226.7254' '8.23.254.717']\n",
            "\n",
            "mapId: [11. 12. 10.]\n",
            "\n",
            "platformId: ['KR']\n",
            "\n",
            "queueId: [ 420.  450.  430. 1020.  440.  850.  900.  700.  830.  840. 2020. 2000.\n",
            "  920. 2010.  470.]\n",
            "\n",
            "seasonId: [13. 11. 12.]\n",
            "\n"
          ]
        }
      ]
    },
    {
      "cell_type": "code",
      "metadata": {
        "colab": {
          "base_uri": "https://localhost:8080/"
        },
        "id": "m2lUOSEhNhB6",
        "outputId": "4602f644-38c7-472f-8381-8727d7a4049f"
      },
      "source": [
        "del data\n",
        "\n",
        "import gc\n",
        "gc.collect()"
      ],
      "execution_count": 5,
      "outputs": [
        {
          "output_type": "execute_result",
          "data": {
            "text/plain": [
              "138"
            ]
          },
          "metadata": {},
          "execution_count": 5
        }
      ]
    },
    {
      "cell_type": "code",
      "metadata": {
        "id": "xS8KdGNBOOs-"
      },
      "source": [
        "import ast\n",
        "import json"
      ],
      "execution_count": 6,
      "outputs": []
    },
    {
      "cell_type": "markdown",
      "metadata": {
        "id": "xapUdtIPPyai"
      },
      "source": [
        "## match info"
      ]
    },
    {
      "cell_type": "code",
      "metadata": {
        "colab": {
          "base_uri": "https://localhost:8080/",
          "height": 204
        },
        "id": "iOrAGoywM_W-",
        "outputId": "722aaf4b-2815-4d61-8373-255915699b97"
      },
      "source": [
        "data = pd.read_csv(\"/content/drive/MyDrive/Colab Notebooks/동욱코드모음/마지막프로젝트/3주차/시도/match_data_version1_match_info.csv\")\n",
        "data.head()"
      ],
      "execution_count": 7,
      "outputs": [
        {
          "output_type": "execute_result",
          "data": {
            "text/html": [
              "<div>\n",
              "<style scoped>\n",
              "    .dataframe tbody tr th:only-of-type {\n",
              "        vertical-align: middle;\n",
              "    }\n",
              "\n",
              "    .dataframe tbody tr th {\n",
              "        vertical-align: top;\n",
              "    }\n",
              "\n",
              "    .dataframe thead th {\n",
              "        text-align: right;\n",
              "    }\n",
              "</style>\n",
              "<table border=\"1\" class=\"dataframe\">\n",
              "  <thead>\n",
              "    <tr style=\"text-align: right;\">\n",
              "      <th></th>\n",
              "      <th>gameCreation</th>\n",
              "      <th>gameDuration</th>\n",
              "      <th>gameId</th>\n",
              "      <th>gameMode</th>\n",
              "      <th>gameType</th>\n",
              "      <th>gameVersion</th>\n",
              "      <th>mapId</th>\n",
              "      <th>platformId</th>\n",
              "      <th>queueId</th>\n",
              "      <th>seasonId</th>\n",
              "      <th>status.message</th>\n",
              "      <th>status.status_code</th>\n",
              "    </tr>\n",
              "  </thead>\n",
              "  <tbody>\n",
              "    <tr>\n",
              "      <th>0</th>\n",
              "      <td>1.585155e+12</td>\n",
              "      <td>1323.0</td>\n",
              "      <td>4.247263e+09</td>\n",
              "      <td>CLASSIC</td>\n",
              "      <td>MATCHED_GAME</td>\n",
              "      <td>10.6.314.4405</td>\n",
              "      <td>11.0</td>\n",
              "      <td>KR</td>\n",
              "      <td>420.0</td>\n",
              "      <td>13.0</td>\n",
              "      <td>NaN</td>\n",
              "      <td>NaN</td>\n",
              "    </tr>\n",
              "    <tr>\n",
              "      <th>1</th>\n",
              "      <td>1.585152e+12</td>\n",
              "      <td>1317.0</td>\n",
              "      <td>4.247156e+09</td>\n",
              "      <td>CLASSIC</td>\n",
              "      <td>MATCHED_GAME</td>\n",
              "      <td>10.6.314.4405</td>\n",
              "      <td>11.0</td>\n",
              "      <td>KR</td>\n",
              "      <td>420.0</td>\n",
              "      <td>13.0</td>\n",
              "      <td>NaN</td>\n",
              "      <td>NaN</td>\n",
              "    </tr>\n",
              "    <tr>\n",
              "      <th>2</th>\n",
              "      <td>1.585059e+12</td>\n",
              "      <td>932.0</td>\n",
              "      <td>4.243963e+09</td>\n",
              "      <td>CLASSIC</td>\n",
              "      <td>MATCHED_GAME</td>\n",
              "      <td>10.6.313.8894</td>\n",
              "      <td>11.0</td>\n",
              "      <td>KR</td>\n",
              "      <td>420.0</td>\n",
              "      <td>13.0</td>\n",
              "      <td>NaN</td>\n",
              "      <td>NaN</td>\n",
              "    </tr>\n",
              "    <tr>\n",
              "      <th>3</th>\n",
              "      <td>1.584978e+12</td>\n",
              "      <td>2098.0</td>\n",
              "      <td>4.241678e+09</td>\n",
              "      <td>CLASSIC</td>\n",
              "      <td>MATCHED_GAME</td>\n",
              "      <td>10.6.313.8894</td>\n",
              "      <td>11.0</td>\n",
              "      <td>KR</td>\n",
              "      <td>420.0</td>\n",
              "      <td>13.0</td>\n",
              "      <td>NaN</td>\n",
              "      <td>NaN</td>\n",
              "    </tr>\n",
              "    <tr>\n",
              "      <th>4</th>\n",
              "      <td>1.584973e+12</td>\n",
              "      <td>2344.0</td>\n",
              "      <td>4.241539e+09</td>\n",
              "      <td>CLASSIC</td>\n",
              "      <td>MATCHED_GAME</td>\n",
              "      <td>10.6.313.8894</td>\n",
              "      <td>11.0</td>\n",
              "      <td>KR</td>\n",
              "      <td>420.0</td>\n",
              "      <td>13.0</td>\n",
              "      <td>NaN</td>\n",
              "      <td>NaN</td>\n",
              "    </tr>\n",
              "  </tbody>\n",
              "</table>\n",
              "</div>"
            ],
            "text/plain": [
              "   gameCreation  gameDuration  ...  status.message status.status_code\n",
              "0  1.585155e+12        1323.0  ...             NaN                NaN\n",
              "1  1.585152e+12        1317.0  ...             NaN                NaN\n",
              "2  1.585059e+12         932.0  ...             NaN                NaN\n",
              "3  1.584978e+12        2098.0  ...             NaN                NaN\n",
              "4  1.584973e+12        2344.0  ...             NaN                NaN\n",
              "\n",
              "[5 rows x 12 columns]"
            ]
          },
          "metadata": {},
          "execution_count": 7
        }
      ]
    },
    {
      "cell_type": "code",
      "metadata": {
        "colab": {
          "base_uri": "https://localhost:8080/"
        },
        "id": "pOlUDjEBOzct",
        "outputId": "8f6d852c-88da-40f4-da69-ebabeec3ccc1"
      },
      "source": [
        "data.info()"
      ],
      "execution_count": 8,
      "outputs": [
        {
          "output_type": "stream",
          "name": "stdout",
          "text": [
            "<class 'pandas.core.frame.DataFrame'>\n",
            "RangeIndex: 108829 entries, 0 to 108828\n",
            "Data columns (total 12 columns):\n",
            " #   Column              Non-Null Count   Dtype  \n",
            "---  ------              --------------   -----  \n",
            " 0   gameCreation        108829 non-null  float64\n",
            " 1   gameDuration        108829 non-null  float64\n",
            " 2   gameId              108829 non-null  float64\n",
            " 3   gameMode            108829 non-null  object \n",
            " 4   gameType            108829 non-null  object \n",
            " 5   gameVersion         108829 non-null  object \n",
            " 6   mapId               108829 non-null  float64\n",
            " 7   platformId          108829 non-null  object \n",
            " 8   queueId             108829 non-null  float64\n",
            " 9   seasonId            108829 non-null  float64\n",
            " 10  status.message      0 non-null       float64\n",
            " 11  status.status_code  0 non-null       float64\n",
            "dtypes: float64(8), object(4)\n",
            "memory usage: 10.0+ MB\n"
          ]
        }
      ]
    },
    {
      "cell_type": "code",
      "metadata": {
        "colab": {
          "base_uri": "https://localhost:8080/"
        },
        "id": "Dm-woRofO3_s",
        "outputId": "d8593461-3a8f-4bc2-a573-01a361916969"
      },
      "source": [
        "data.columns"
      ],
      "execution_count": 9,
      "outputs": [
        {
          "output_type": "execute_result",
          "data": {
            "text/plain": [
              "Index(['gameCreation', 'gameDuration', 'gameId', 'gameMode', 'gameType',\n",
              "       'gameVersion', 'mapId', 'platformId', 'queueId', 'seasonId',\n",
              "       'status.message', 'status.status_code'],\n",
              "      dtype='object')"
            ]
          },
          "metadata": {},
          "execution_count": 9
        }
      ]
    },
    {
      "cell_type": "code",
      "metadata": {
        "colab": {
          "base_uri": "https://localhost:8080/"
        },
        "id": "70uAeNK3Ng_Z",
        "outputId": "f9d894b4-591c-4b1f-b604-42bec505a832"
      },
      "source": [
        "for col in ( 'gameMode', 'gameType',\n",
        "       'gameVersion', 'mapId', 'platformId', 'queueId', 'seasonId',\n",
        "       'status.message', 'status.status_code'):\n",
        "    print(f\"{col}: {data[col].unique()}\")\n",
        "    print()"
      ],
      "execution_count": 11,
      "outputs": [
        {
          "output_type": "stream",
          "name": "stdout",
          "text": [
            "gameMode: ['CLASSIC' 'ARAM' 'ONEFORALL' 'URF' 'TUTORIAL_MODULE_3'\n",
            " 'TUTORIAL_MODULE_1' 'KINGPORO' 'TUTORIAL_MODULE_2']\n",
            "\n",
            "gameType: ['MATCHED_GAME']\n",
            "\n",
            "gameVersion: ['10.6.314.4405' '10.6.313.8894' '10.6.313.2784' '10.5.312.392'\n",
            " '10.5.311.166' '10.4.308.9400' '10.3.307.7898' '10.3.307.1028'\n",
            " '10.2.305.4739' '10.1.303.9385' '9.24.300.6382' '9.23.299.3089'\n",
            " '9.23.298.8833' '9.22.296.5720' '10.1.303.6554' '9.13.280.4632'\n",
            " '9.21.294.813' '9.22.296.1221' '9.20.292.2452' '9.14.282.3231'\n",
            " '9.23.298.3143' '9.19.290.8808' '9.23.298.6855' '9.18.288.7871'\n",
            " '9.17.287.9350' '9.15.283.4011' '9.17.287.2485' '9.10.274.8345'\n",
            " '9.8.270.9450' '8.19.246.5109' '9.12.277.6038' '9.16.284.8446'\n",
            " '9.1.257.7563' '9.11.275.6613' '9.18.289.6958' '9.16.286.4937'\n",
            " '9.18.288.4125' '9.9.272.4950' '8.24.255.8524' '9.3.261.9578'\n",
            " '8.17.243.3340' '9.19.290.4926' '8.20.249.1952' '9.10.273.9316'\n",
            " '9.4.264.1140' '8.16.241.6543' '9.5.265.6479' '9.14.282.267'\n",
            " '9.7.270.125' '9.13.279.7717' '9.2.260.6714' '9.6.267.4221'\n",
            " '8.11.231.7304' '8.9.227.7511' '9.2.261.2172' '8.20.248.3196'\n",
            " '9.4.264.7309' '8.9.228.4283' '9.6.268.2663' '8.11.232.8721'\n",
            " '9.7.269.2391' '8.15.239.9021' '9.17.286.7872' '8.18.244.9800'\n",
            " '8.18.245.7444' '8.22.252.2691' '9.14.282.2273' '8.21.251.4430'\n",
            " '8.13.235.9749' '8.10.229.7328' '8.21.250.2733' '8.21.250.9462'\n",
            " '8.8.226.7254' '8.23.254.717']\n",
            "\n",
            "mapId: [11. 12. 10.]\n",
            "\n",
            "platformId: ['KR']\n",
            "\n",
            "queueId: [ 420.  450.  430. 1020.  440.  850.  900.  700.  830.  840. 2020. 2000.\n",
            "  920. 2010.  470.]\n",
            "\n",
            "seasonId: [13. 11. 12.]\n",
            "\n",
            "status.message: [nan]\n",
            "\n",
            "status.status_code: [nan]\n",
            "\n"
          ]
        }
      ]
    },
    {
      "cell_type": "code",
      "metadata": {
        "id": "1EP-RLrKPXRD"
      },
      "source": [
        "data = data[data['gameMode'] == 'CLASSIC']"
      ],
      "execution_count": 14,
      "outputs": []
    },
    {
      "cell_type": "code",
      "metadata": {
        "colab": {
          "base_uri": "https://localhost:8080/"
        },
        "id": "BgUZCZfkNg8t",
        "outputId": "51548f7b-3443-4ee0-f5db-e8f641a70aa8"
      },
      "source": [
        "data.info()"
      ],
      "execution_count": 15,
      "outputs": [
        {
          "output_type": "stream",
          "name": "stdout",
          "text": [
            "<class 'pandas.core.frame.DataFrame'>\n",
            "Int64Index: 92857 entries, 0 to 108826\n",
            "Data columns (total 12 columns):\n",
            " #   Column              Non-Null Count  Dtype  \n",
            "---  ------              --------------  -----  \n",
            " 0   gameCreation        92857 non-null  float64\n",
            " 1   gameDuration        92857 non-null  float64\n",
            " 2   gameId              92857 non-null  float64\n",
            " 3   gameMode            92857 non-null  object \n",
            " 4   gameType            92857 non-null  object \n",
            " 5   gameVersion         92857 non-null  object \n",
            " 6   mapId               92857 non-null  float64\n",
            " 7   platformId          92857 non-null  object \n",
            " 8   queueId             92857 non-null  float64\n",
            " 9   seasonId            92857 non-null  float64\n",
            " 10  status.message      0 non-null      float64\n",
            " 11  status.status_code  0 non-null      float64\n",
            "dtypes: float64(8), object(4)\n",
            "memory usage: 9.2+ MB\n"
          ]
        }
      ]
    },
    {
      "cell_type": "code",
      "metadata": {
        "colab": {
          "base_uri": "https://localhost:8080/"
        },
        "id": "rKCAXOGUP1pl",
        "outputId": "f4e18e05-5727-4fc8-f822-1e47392aa453"
      },
      "source": [
        "del data\n",
        "\n",
        "import gc\n",
        "gc.collect()"
      ],
      "execution_count": 16,
      "outputs": [
        {
          "output_type": "execute_result",
          "data": {
            "text/plain": [
              "288"
            ]
          },
          "metadata": {},
          "execution_count": 16
        }
      ]
    },
    {
      "cell_type": "markdown",
      "metadata": {
        "id": "wEkZTWzUP1Av"
      },
      "source": [
        "## game_basic info"
      ]
    },
    {
      "cell_type": "code",
      "metadata": {
        "colab": {
          "base_uri": "https://localhost:8080/",
          "height": 258
        },
        "id": "9tvPV8lYPRkD",
        "outputId": "62d19351-3f9e-44b8-a092-487af910bfc4"
      },
      "source": [
        "data = pd.read_csv(\"/content/drive/MyDrive/Colab Notebooks/동욱코드모음/마지막프로젝트/3주차/시도/match_data_version1_participant_game_basic_info.csv\")\n",
        "data.head()"
      ],
      "execution_count": 17,
      "outputs": [
        {
          "output_type": "stream",
          "name": "stderr",
          "text": [
            "/usr/local/lib/python3.7/dist-packages/IPython/core/interactiveshell.py:2718: DtypeWarning: Columns (5) have mixed types.Specify dtype option on import or set low_memory=False.\n",
            "  interactivity=interactivity, compiler=compiler, result=result)\n"
          ]
        },
        {
          "output_type": "execute_result",
          "data": {
            "text/html": [
              "<div>\n",
              "<style scoped>\n",
              "    .dataframe tbody tr th:only-of-type {\n",
              "        vertical-align: middle;\n",
              "    }\n",
              "\n",
              "    .dataframe tbody tr th {\n",
              "        vertical-align: top;\n",
              "    }\n",
              "\n",
              "    .dataframe thead th {\n",
              "        text-align: right;\n",
              "    }\n",
              "</style>\n",
              "<table border=\"1\" class=\"dataframe\">\n",
              "  <thead>\n",
              "    <tr style=\"text-align: right;\">\n",
              "      <th></th>\n",
              "      <th>participantId</th>\n",
              "      <th>teamId</th>\n",
              "      <th>championId</th>\n",
              "      <th>spell1Id</th>\n",
              "      <th>spell2Id</th>\n",
              "      <th>highestAchievedSeasonTier</th>\n",
              "      <th>gameId</th>\n",
              "    </tr>\n",
              "  </thead>\n",
              "  <tbody>\n",
              "    <tr>\n",
              "      <th>0</th>\n",
              "      <td>1</td>\n",
              "      <td>100</td>\n",
              "      <td>7</td>\n",
              "      <td>1</td>\n",
              "      <td>4</td>\n",
              "      <td>NaN</td>\n",
              "      <td>4.247263e+09</td>\n",
              "    </tr>\n",
              "    <tr>\n",
              "      <th>1</th>\n",
              "      <td>2</td>\n",
              "      <td>100</td>\n",
              "      <td>350</td>\n",
              "      <td>3</td>\n",
              "      <td>7</td>\n",
              "      <td>NaN</td>\n",
              "      <td>4.247263e+09</td>\n",
              "    </tr>\n",
              "    <tr>\n",
              "      <th>2</th>\n",
              "      <td>3</td>\n",
              "      <td>100</td>\n",
              "      <td>266</td>\n",
              "      <td>4</td>\n",
              "      <td>12</td>\n",
              "      <td>NaN</td>\n",
              "      <td>4.247263e+09</td>\n",
              "    </tr>\n",
              "    <tr>\n",
              "      <th>3</th>\n",
              "      <td>4</td>\n",
              "      <td>100</td>\n",
              "      <td>517</td>\n",
              "      <td>4</td>\n",
              "      <td>11</td>\n",
              "      <td>NaN</td>\n",
              "      <td>4.247263e+09</td>\n",
              "    </tr>\n",
              "    <tr>\n",
              "      <th>4</th>\n",
              "      <td>5</td>\n",
              "      <td>100</td>\n",
              "      <td>110</td>\n",
              "      <td>4</td>\n",
              "      <td>21</td>\n",
              "      <td>NaN</td>\n",
              "      <td>4.247263e+09</td>\n",
              "    </tr>\n",
              "  </tbody>\n",
              "</table>\n",
              "</div>"
            ],
            "text/plain": [
              "   participantId  teamId  ...  highestAchievedSeasonTier        gameId\n",
              "0              1     100  ...                        NaN  4.247263e+09\n",
              "1              2     100  ...                        NaN  4.247263e+09\n",
              "2              3     100  ...                        NaN  4.247263e+09\n",
              "3              4     100  ...                        NaN  4.247263e+09\n",
              "4              5     100  ...                        NaN  4.247263e+09\n",
              "\n",
              "[5 rows x 7 columns]"
            ]
          },
          "metadata": {},
          "execution_count": 17
        }
      ]
    },
    {
      "cell_type": "code",
      "metadata": {
        "colab": {
          "base_uri": "https://localhost:8080/"
        },
        "id": "fOvmnF6BQCI-",
        "outputId": "09a95f08-67a6-4f85-a332-232d84b368d4"
      },
      "source": [
        "data.columns"
      ],
      "execution_count": 18,
      "outputs": [
        {
          "output_type": "execute_result",
          "data": {
            "text/plain": [
              "Index(['participantId', 'teamId', 'championId', 'spell1Id', 'spell2Id',\n",
              "       'highestAchievedSeasonTier', 'gameId'],\n",
              "      dtype='object')"
            ]
          },
          "metadata": {},
          "execution_count": 18
        }
      ]
    },
    {
      "cell_type": "code",
      "metadata": {
        "colab": {
          "base_uri": "https://localhost:8080/"
        },
        "id": "rq7ojA0wQMEF",
        "outputId": "bbbe7df6-f66f-4f12-ce5a-b08536fab461"
      },
      "source": [
        "for col in ('participantId', 'teamId', 'championId', 'spell1Id', 'spell2Id',\n",
        "       'highestAchievedSeasonTier'):\n",
        "    print(f\"{col}: {data[col].unique()}\")\n",
        "    print()"
      ],
      "execution_count": 19,
      "outputs": [
        {
          "output_type": "stream",
          "name": "stdout",
          "text": [
            "participantId: [ 1  2  3  4  5  6  7  8  9 10]\n",
            "\n",
            "teamId: [100 200]\n",
            "\n",
            "championId: [  7 350 266 517 110 235  81 127  84 421 236 245  57 126  58  15  60 223\n",
            " 112  12 429  64  82 111 142  78  98 875  41  21 154 157 145  34  62   2\n",
            "  83  18  44 203  39 523  22  79  55 122  59 555 497   9 412 163  25  80\n",
            " 114 104 119  38  68 427 432  89  85  30 246  53   8  86 222  67   3 105\n",
            " 103  76  91  24   5  43  69  61 202 113 164 134  51 201 106 107   4  31\n",
            " 516  14  16 115 268 420 117  10 240  74  29 133 498  90 238  23 518  75\n",
            "  13  54 131  56  48  20 141  40  26  27 102 120  28 121  32 136  99  72\n",
            " 161  42 150  63   6  33  37 267  19  35  92  17  11   1 254  45  96  50\n",
            " 101  36  77 143]\n",
            "\n",
            "spell1Id: [ 1  3  4  7 11 14 21 12  6 13 32  0 30 31]\n",
            "\n",
            "spell2Id: [ 4  7 12 11 21  3 14  1  6 32 13  0 31 30]\n",
            "\n",
            "highestAchievedSeasonTier: [nan 'DIAMOND' 'MASTER' 'PLATINUM' 'GOLD' 'CHALLENGER' 'SILVER' 'UNRANKED'\n",
            " 'BRONZE']\n",
            "\n"
          ]
        }
      ]
    },
    {
      "cell_type": "code",
      "metadata": {
        "colab": {
          "base_uri": "https://localhost:8080/"
        },
        "id": "mzBjPse8QVGL",
        "outputId": "51a68008-be4c-40ea-e3d1-204082cde06e"
      },
      "source": [
        "data.highestAchievedSeasonTier.unique()"
      ],
      "execution_count": 20,
      "outputs": [
        {
          "output_type": "execute_result",
          "data": {
            "text/plain": [
              "array([nan, 'DIAMOND', 'MASTER', 'PLATINUM', 'GOLD', 'CHALLENGER',\n",
              "       'SILVER', 'UNRANKED', 'BRONZE'], dtype=object)"
            ]
          },
          "metadata": {},
          "execution_count": 20
        }
      ]
    },
    {
      "cell_type": "code",
      "metadata": {
        "colab": {
          "base_uri": "https://localhost:8080/"
        },
        "id": "FgTems6kQe5k",
        "outputId": "3bcb8696-964f-49c6-f139-a7d14fca312c"
      },
      "source": [
        "len(data), data.championId.nunique(), data.spell1Id.nunique(), data.spell2Id.nunique()"
      ],
      "execution_count": 21,
      "outputs": [
        {
          "output_type": "execute_result",
          "data": {
            "text/plain": [
              "(1087598, 148, 14, 14)"
            ]
          },
          "metadata": {},
          "execution_count": 21
        }
      ]
    },
    {
      "cell_type": "code",
      "metadata": {
        "colab": {
          "base_uri": "https://localhost:8080/"
        },
        "id": "TmPpR88sQ7HG",
        "outputId": "ee767834-5874-4d9a-837b-1e0de2128e9c"
      },
      "source": [
        "del data\n",
        "\n",
        "import gc\n",
        "gc.collect()"
      ],
      "execution_count": 22,
      "outputs": [
        {
          "output_type": "execute_result",
          "data": {
            "text/plain": [
              "67"
            ]
          },
          "metadata": {},
          "execution_count": 22
        }
      ]
    },
    {
      "cell_type": "markdown",
      "metadata": {
        "id": "kJ1qbdvcRG6u"
      },
      "source": [
        "## match player id info"
      ]
    },
    {
      "cell_type": "code",
      "metadata": {
        "colab": {
          "base_uri": "https://localhost:8080/",
          "height": 224
        },
        "id": "QuQL4qXLRDEo",
        "outputId": "82019389-ef1b-4307-eff2-e8f430b239ed"
      },
      "source": [
        "data = pd.read_csv(\"/content/drive/MyDrive/Colab Notebooks/동욱코드모음/마지막프로젝트/3주차/시도/match_data_version1_participant_id_info.csv\")\n",
        "data.head()"
      ],
      "execution_count": 23,
      "outputs": [
        {
          "output_type": "execute_result",
          "data": {
            "text/html": [
              "<div>\n",
              "<style scoped>\n",
              "    .dataframe tbody tr th:only-of-type {\n",
              "        vertical-align: middle;\n",
              "    }\n",
              "\n",
              "    .dataframe tbody tr th {\n",
              "        vertical-align: top;\n",
              "    }\n",
              "\n",
              "    .dataframe thead th {\n",
              "        text-align: right;\n",
              "    }\n",
              "</style>\n",
              "<table border=\"1\" class=\"dataframe\">\n",
              "  <thead>\n",
              "    <tr style=\"text-align: right;\">\n",
              "      <th></th>\n",
              "      <th>platformId</th>\n",
              "      <th>accountId</th>\n",
              "      <th>summonerName</th>\n",
              "      <th>summonerId</th>\n",
              "      <th>currentPlatformId</th>\n",
              "      <th>currentAccountId</th>\n",
              "      <th>matchHistoryUri</th>\n",
              "      <th>profileIcon</th>\n",
              "      <th>participantId</th>\n",
              "      <th>gameId</th>\n",
              "    </tr>\n",
              "  </thead>\n",
              "  <tbody>\n",
              "    <tr>\n",
              "      <th>0</th>\n",
              "      <td>KR</td>\n",
              "      <td>LhCH2yaixm5FZ6dHybuexqHNckeV0RQh4-W3pB8vJP2_</td>\n",
              "      <td>쪼렙이다말로하자</td>\n",
              "      <td>YTMZt7CQ7cHXiADp1ZtI1GjNHdAE_HQbbSxxq_gllWinqQ</td>\n",
              "      <td>KR</td>\n",
              "      <td>LhCH2yaixm5FZ6dHybuexqHNckeV0RQh4-W3pB8vJP2_</td>\n",
              "      <td>/v1/stats/player_history/KR/2725181</td>\n",
              "      <td>3019</td>\n",
              "      <td>1</td>\n",
              "      <td>4.247263e+09</td>\n",
              "    </tr>\n",
              "    <tr>\n",
              "      <th>1</th>\n",
              "      <td>KR</td>\n",
              "      <td>C5kaawNjDdMLodFtogGCPSkSKElEs39imb80iTvjfWWfy9k</td>\n",
              "      <td>불질러</td>\n",
              "      <td>exNXyACl33qZjrQ5F9jsvojM3AHK8BhYFGmOtdCPM3IDBG4</td>\n",
              "      <td>KR</td>\n",
              "      <td>C5kaawNjDdMLodFtogGCPSkSKElEs39imb80iTvjfWWfy9k</td>\n",
              "      <td>/v1/stats/player_history/KR/207078123</td>\n",
              "      <td>1458</td>\n",
              "      <td>2</td>\n",
              "      <td>4.247263e+09</td>\n",
              "    </tr>\n",
              "    <tr>\n",
              "      <th>2</th>\n",
              "      <td>KR</td>\n",
              "      <td>IIWG7FRiqE8CuZaCslKkNxkglwpgnePPxDslb2tv66FKrgo</td>\n",
              "      <td>Youtube Thal</td>\n",
              "      <td>8Cx100isJ6RMMeOmUX_-Wg0CESabVTYk-e8P8Ijj3zuIiB4</td>\n",
              "      <td>KR</td>\n",
              "      <td>IIWG7FRiqE8CuZaCslKkNxkglwpgnePPxDslb2tv66FKrgo</td>\n",
              "      <td>/v1/stats/player_history/KR/201236882</td>\n",
              "      <td>4090</td>\n",
              "      <td>3</td>\n",
              "      <td>4.247263e+09</td>\n",
              "    </tr>\n",
              "    <tr>\n",
              "      <th>3</th>\n",
              "      <td>KR</td>\n",
              "      <td>W5QWj6ej2VQgu1UunwFuGcNgBBz_io7T01Gg-ClYiVLS</td>\n",
              "      <td>213321123</td>\n",
              "      <td>umFfeIr7pGqTVyD_z14fjaSIsw_7Y1VUm9NypE3ePUUkm5E</td>\n",
              "      <td>KR</td>\n",
              "      <td>W5QWj6ej2VQgu1UunwFuGcNgBBz_io7T01Gg-ClYiVLS</td>\n",
              "      <td>/v1/stats/player_history/KR/7820965</td>\n",
              "      <td>932</td>\n",
              "      <td>4</td>\n",
              "      <td>4.247263e+09</td>\n",
              "    </tr>\n",
              "    <tr>\n",
              "      <th>4</th>\n",
              "      <td>KR</td>\n",
              "      <td>ImPwfj9Gb0tPHcMMnjVc6w44AedoxngtlVZJiqLqOKBRVP...</td>\n",
              "      <td>ggffggg</td>\n",
              "      <td>n_2q6lxDY6zivMxIy1lJSyq7S7kV11RBpl29ccDzj20LMSI</td>\n",
              "      <td>KR</td>\n",
              "      <td>ImPwfj9Gb0tPHcMMnjVc6w44AedoxngtlVZJiqLqOKBRVP...</td>\n",
              "      <td>/v1/stats/player_history/KR/2372727679749504</td>\n",
              "      <td>839</td>\n",
              "      <td>5</td>\n",
              "      <td>4.247263e+09</td>\n",
              "    </tr>\n",
              "  </tbody>\n",
              "</table>\n",
              "</div>"
            ],
            "text/plain": [
              "  platformId  ...        gameId\n",
              "0         KR  ...  4.247263e+09\n",
              "1         KR  ...  4.247263e+09\n",
              "2         KR  ...  4.247263e+09\n",
              "3         KR  ...  4.247263e+09\n",
              "4         KR  ...  4.247263e+09\n",
              "\n",
              "[5 rows x 10 columns]"
            ]
          },
          "metadata": {},
          "execution_count": 23
        }
      ]
    },
    {
      "cell_type": "code",
      "metadata": {
        "colab": {
          "base_uri": "https://localhost:8080/"
        },
        "id": "qH6yNao8RKJD",
        "outputId": "b8054ec9-e19a-4ec2-f928-0e4cc494ccda"
      },
      "source": [
        "data.accountId.nunique(), data.summonerName.nunique(), data.summonerId.nunique(), data.currentAccountId.nunique()"
      ],
      "execution_count": 24,
      "outputs": [
        {
          "output_type": "execute_result",
          "data": {
            "text/plain": [
              "(202610, 221739, 202609, 202610)"
            ]
          },
          "metadata": {},
          "execution_count": 24
        }
      ]
    },
    {
      "cell_type": "code",
      "metadata": {
        "colab": {
          "base_uri": "https://localhost:8080/"
        },
        "id": "D42qnrHnRW2F",
        "outputId": "f136cfa3-50f3-4acf-b8b4-fe99cfdf5e49"
      },
      "source": [
        "data.matchHistoryUri.nunique(), data.gameId.nunique(), data.profileIcon.nunique()"
      ],
      "execution_count": 25,
      "outputs": [
        {
          "output_type": "execute_result",
          "data": {
            "text/plain": [
              "(202618, 108773, 1419)"
            ]
          },
          "metadata": {},
          "execution_count": 25
        }
      ]
    },
    {
      "cell_type": "code",
      "metadata": {
        "colab": {
          "base_uri": "https://localhost:8080/"
        },
        "id": "gbKYLeNvRgv9",
        "outputId": "c7f807f2-9ee9-4c65-e748-2e1908c3487f"
      },
      "source": [
        "del data\n",
        "\n",
        "import gc\n",
        "gc.collect()"
      ],
      "execution_count": 28,
      "outputs": [
        {
          "output_type": "execute_result",
          "data": {
            "text/plain": [
              "141"
            ]
          },
          "metadata": {},
          "execution_count": 28
        }
      ]
    },
    {
      "cell_type": "markdown",
      "metadata": {
        "id": "ucSrE6JkRvym"
      },
      "source": [
        "## game  stats info"
      ]
    },
    {
      "cell_type": "code",
      "metadata": {
        "colab": {
          "base_uri": "https://localhost:8080/",
          "height": 287
        },
        "id": "ec24rDnzRvKl",
        "outputId": "55c65c98-bb7a-4828-abc5-ca84d22abff6"
      },
      "source": [
        "data = pd.read_csv(\"/content/drive/MyDrive/Colab Notebooks/동욱코드모음/마지막프로젝트/3주차/시도/match_data_version1_participant_game_stats_info.csv\")\n",
        "data.head()"
      ],
      "execution_count": 29,
      "outputs": [
        {
          "output_type": "stream",
          "name": "stderr",
          "text": [
            "/usr/local/lib/python3.7/dist-packages/IPython/core/interactiveshell.py:2718: DtypeWarning: Columns (10,11) have mixed types.Specify dtype option on import or set low_memory=False.\n",
            "  interactivity=interactivity, compiler=compiler, result=result)\n"
          ]
        },
        {
          "output_type": "execute_result",
          "data": {
            "text/html": [
              "<div>\n",
              "<style scoped>\n",
              "    .dataframe tbody tr th:only-of-type {\n",
              "        vertical-align: middle;\n",
              "    }\n",
              "\n",
              "    .dataframe tbody tr th {\n",
              "        vertical-align: top;\n",
              "    }\n",
              "\n",
              "    .dataframe thead th {\n",
              "        text-align: right;\n",
              "    }\n",
              "</style>\n",
              "<table border=\"1\" class=\"dataframe\">\n",
              "  <thead>\n",
              "    <tr style=\"text-align: right;\">\n",
              "      <th></th>\n",
              "      <th>gameId</th>\n",
              "      <th>participantId</th>\n",
              "      <th>assists</th>\n",
              "      <th>champLevel</th>\n",
              "      <th>combatPlayerScore</th>\n",
              "      <th>damageDealtToObjectives</th>\n",
              "      <th>damageDealtToTurrets</th>\n",
              "      <th>damageSelfMitigated</th>\n",
              "      <th>deaths</th>\n",
              "      <th>doubleKills</th>\n",
              "      <th>firstBloodAssist</th>\n",
              "      <th>firstBloodKill</th>\n",
              "      <th>firstInhibitorAssist</th>\n",
              "      <th>firstInhibitorKill</th>\n",
              "      <th>firstTowerAssist</th>\n",
              "      <th>firstTowerKill</th>\n",
              "      <th>goldEarned</th>\n",
              "      <th>goldSpent</th>\n",
              "      <th>inhibitorKills</th>\n",
              "      <th>item0</th>\n",
              "      <th>item1</th>\n",
              "      <th>item2</th>\n",
              "      <th>item3</th>\n",
              "      <th>item4</th>\n",
              "      <th>item5</th>\n",
              "      <th>item6</th>\n",
              "      <th>killingSprees</th>\n",
              "      <th>kills</th>\n",
              "      <th>largestCriticalStrike</th>\n",
              "      <th>largestKillingSpree</th>\n",
              "      <th>largestMultiKill</th>\n",
              "      <th>longestTimeSpentLiving</th>\n",
              "      <th>magicDamageDealt</th>\n",
              "      <th>magicDamageDealtToChampions</th>\n",
              "      <th>magicalDamageTaken</th>\n",
              "      <th>neutralMinionsKilled</th>\n",
              "      <th>neutralMinionsKilledEnemyJungle</th>\n",
              "      <th>neutralMinionsKilledTeamJungle</th>\n",
              "      <th>objectivePlayerScore</th>\n",
              "      <th>pentaKills</th>\n",
              "      <th>...</th>\n",
              "      <th>perkSubStyle</th>\n",
              "      <th>physicalDamageDealt</th>\n",
              "      <th>physicalDamageDealtToChampions</th>\n",
              "      <th>physicalDamageTaken</th>\n",
              "      <th>playerScore0</th>\n",
              "      <th>playerScore1</th>\n",
              "      <th>playerScore2</th>\n",
              "      <th>playerScore3</th>\n",
              "      <th>playerScore4</th>\n",
              "      <th>playerScore5</th>\n",
              "      <th>playerScore6</th>\n",
              "      <th>playerScore7</th>\n",
              "      <th>playerScore8</th>\n",
              "      <th>playerScore9</th>\n",
              "      <th>quadraKills</th>\n",
              "      <th>sightWardsBoughtInGame</th>\n",
              "      <th>statPerk0</th>\n",
              "      <th>statPerk1</th>\n",
              "      <th>statPerk2</th>\n",
              "      <th>timeCCingOthers</th>\n",
              "      <th>totalDamageDealt</th>\n",
              "      <th>totalDamageDealtToChampions</th>\n",
              "      <th>totalDamageTaken</th>\n",
              "      <th>totalHeal</th>\n",
              "      <th>totalMinionsKilled</th>\n",
              "      <th>totalPlayerScore</th>\n",
              "      <th>totalScoreRank</th>\n",
              "      <th>totalTimeCrowdControlDealt</th>\n",
              "      <th>totalUnitsHealed</th>\n",
              "      <th>tripleKills</th>\n",
              "      <th>trueDamageDealt</th>\n",
              "      <th>trueDamageDealtToChampions</th>\n",
              "      <th>trueDamageTaken</th>\n",
              "      <th>turretKills</th>\n",
              "      <th>unrealKills</th>\n",
              "      <th>visionScore</th>\n",
              "      <th>visionWardsBoughtInGame</th>\n",
              "      <th>wardsKilled</th>\n",
              "      <th>wardsPlaced</th>\n",
              "      <th>win</th>\n",
              "    </tr>\n",
              "  </thead>\n",
              "  <tbody>\n",
              "    <tr>\n",
              "      <th>0</th>\n",
              "      <td>4.247263e+09</td>\n",
              "      <td>1</td>\n",
              "      <td>3</td>\n",
              "      <td>12</td>\n",
              "      <td>0</td>\n",
              "      <td>1055</td>\n",
              "      <td>1008</td>\n",
              "      <td>6742</td>\n",
              "      <td>6</td>\n",
              "      <td>0</td>\n",
              "      <td>False</td>\n",
              "      <td>True</td>\n",
              "      <td>False</td>\n",
              "      <td>False</td>\n",
              "      <td>False</td>\n",
              "      <td>False</td>\n",
              "      <td>6844</td>\n",
              "      <td>6710</td>\n",
              "      <td>0</td>\n",
              "      <td>2033</td>\n",
              "      <td>3285</td>\n",
              "      <td>3108</td>\n",
              "      <td>1082</td>\n",
              "      <td>3020</td>\n",
              "      <td>2055</td>\n",
              "      <td>3364</td>\n",
              "      <td>1</td>\n",
              "      <td>3</td>\n",
              "      <td>0</td>\n",
              "      <td>2</td>\n",
              "      <td>1</td>\n",
              "      <td>564</td>\n",
              "      <td>56332</td>\n",
              "      <td>8926</td>\n",
              "      <td>5282</td>\n",
              "      <td>0</td>\n",
              "      <td>0.0</td>\n",
              "      <td>0.0</td>\n",
              "      <td>0</td>\n",
              "      <td>0</td>\n",
              "      <td>...</td>\n",
              "      <td>8300.0</td>\n",
              "      <td>13037</td>\n",
              "      <td>1918</td>\n",
              "      <td>11203</td>\n",
              "      <td>0</td>\n",
              "      <td>0</td>\n",
              "      <td>0</td>\n",
              "      <td>0</td>\n",
              "      <td>0</td>\n",
              "      <td>0</td>\n",
              "      <td>0</td>\n",
              "      <td>0</td>\n",
              "      <td>0</td>\n",
              "      <td>0</td>\n",
              "      <td>0</td>\n",
              "      <td>0</td>\n",
              "      <td>5005.0</td>\n",
              "      <td>5008.0</td>\n",
              "      <td>5003.0</td>\n",
              "      <td>12</td>\n",
              "      <td>71369</td>\n",
              "      <td>10844</td>\n",
              "      <td>17255</td>\n",
              "      <td>4006</td>\n",
              "      <td>133</td>\n",
              "      <td>0</td>\n",
              "      <td>0</td>\n",
              "      <td>19</td>\n",
              "      <td>1</td>\n",
              "      <td>0</td>\n",
              "      <td>1999</td>\n",
              "      <td>0</td>\n",
              "      <td>770</td>\n",
              "      <td>0</td>\n",
              "      <td>0</td>\n",
              "      <td>14</td>\n",
              "      <td>3</td>\n",
              "      <td>1.0</td>\n",
              "      <td>6.0</td>\n",
              "      <td>False</td>\n",
              "    </tr>\n",
              "    <tr>\n",
              "      <th>1</th>\n",
              "      <td>4.247263e+09</td>\n",
              "      <td>2</td>\n",
              "      <td>10</td>\n",
              "      <td>10</td>\n",
              "      <td>0</td>\n",
              "      <td>427</td>\n",
              "      <td>427</td>\n",
              "      <td>5371</td>\n",
              "      <td>6</td>\n",
              "      <td>0</td>\n",
              "      <td>False</td>\n",
              "      <td>False</td>\n",
              "      <td>False</td>\n",
              "      <td>False</td>\n",
              "      <td>False</td>\n",
              "      <td>False</td>\n",
              "      <td>5205</td>\n",
              "      <td>5212</td>\n",
              "      <td>0</td>\n",
              "      <td>3114</td>\n",
              "      <td>3853</td>\n",
              "      <td>0</td>\n",
              "      <td>1004</td>\n",
              "      <td>3041</td>\n",
              "      <td>3174</td>\n",
              "      <td>3364</td>\n",
              "      <td>0</td>\n",
              "      <td>0</td>\n",
              "      <td>0</td>\n",
              "      <td>0</td>\n",
              "      <td>0</td>\n",
              "      <td>559</td>\n",
              "      <td>8968</td>\n",
              "      <td>6069</td>\n",
              "      <td>2293</td>\n",
              "      <td>0</td>\n",
              "      <td>0.0</td>\n",
              "      <td>0.0</td>\n",
              "      <td>0</td>\n",
              "      <td>0</td>\n",
              "      <td>...</td>\n",
              "      <td>8000.0</td>\n",
              "      <td>2601</td>\n",
              "      <td>1025</td>\n",
              "      <td>7163</td>\n",
              "      <td>0</td>\n",
              "      <td>0</td>\n",
              "      <td>0</td>\n",
              "      <td>0</td>\n",
              "      <td>0</td>\n",
              "      <td>0</td>\n",
              "      <td>0</td>\n",
              "      <td>0</td>\n",
              "      <td>0</td>\n",
              "      <td>0</td>\n",
              "      <td>0</td>\n",
              "      <td>0</td>\n",
              "      <td>5008.0</td>\n",
              "      <td>5008.0</td>\n",
              "      <td>5002.0</td>\n",
              "      <td>8</td>\n",
              "      <td>11569</td>\n",
              "      <td>7095</td>\n",
              "      <td>9994</td>\n",
              "      <td>11758</td>\n",
              "      <td>2</td>\n",
              "      <td>0</td>\n",
              "      <td>0</td>\n",
              "      <td>38</td>\n",
              "      <td>5</td>\n",
              "      <td>0</td>\n",
              "      <td>0</td>\n",
              "      <td>0</td>\n",
              "      <td>537</td>\n",
              "      <td>0</td>\n",
              "      <td>0</td>\n",
              "      <td>34</td>\n",
              "      <td>4</td>\n",
              "      <td>1.0</td>\n",
              "      <td>17.0</td>\n",
              "      <td>False</td>\n",
              "    </tr>\n",
              "    <tr>\n",
              "      <th>2</th>\n",
              "      <td>4.247263e+09</td>\n",
              "      <td>3</td>\n",
              "      <td>2</td>\n",
              "      <td>13</td>\n",
              "      <td>0</td>\n",
              "      <td>703</td>\n",
              "      <td>515</td>\n",
              "      <td>18085</td>\n",
              "      <td>5</td>\n",
              "      <td>0</td>\n",
              "      <td>False</td>\n",
              "      <td>False</td>\n",
              "      <td>False</td>\n",
              "      <td>False</td>\n",
              "      <td>False</td>\n",
              "      <td>False</td>\n",
              "      <td>8226</td>\n",
              "      <td>7300</td>\n",
              "      <td>0</td>\n",
              "      <td>1054</td>\n",
              "      <td>3155</td>\n",
              "      <td>2031</td>\n",
              "      <td>3133</td>\n",
              "      <td>3047</td>\n",
              "      <td>3071</td>\n",
              "      <td>3364</td>\n",
              "      <td>1</td>\n",
              "      <td>4</td>\n",
              "      <td>0</td>\n",
              "      <td>2</td>\n",
              "      <td>1</td>\n",
              "      <td>419</td>\n",
              "      <td>0</td>\n",
              "      <td>0</td>\n",
              "      <td>6950</td>\n",
              "      <td>18</td>\n",
              "      <td>10.0</td>\n",
              "      <td>8.0</td>\n",
              "      <td>0</td>\n",
              "      <td>0</td>\n",
              "      <td>...</td>\n",
              "      <td>8400.0</td>\n",
              "      <td>80978</td>\n",
              "      <td>13332</td>\n",
              "      <td>15297</td>\n",
              "      <td>0</td>\n",
              "      <td>0</td>\n",
              "      <td>0</td>\n",
              "      <td>0</td>\n",
              "      <td>0</td>\n",
              "      <td>0</td>\n",
              "      <td>0</td>\n",
              "      <td>0</td>\n",
              "      <td>0</td>\n",
              "      <td>0</td>\n",
              "      <td>0</td>\n",
              "      <td>0</td>\n",
              "      <td>5007.0</td>\n",
              "      <td>5008.0</td>\n",
              "      <td>5003.0</td>\n",
              "      <td>19</td>\n",
              "      <td>83332</td>\n",
              "      <td>13458</td>\n",
              "      <td>23283</td>\n",
              "      <td>5215</td>\n",
              "      <td>133</td>\n",
              "      <td>0</td>\n",
              "      <td>0</td>\n",
              "      <td>173</td>\n",
              "      <td>1</td>\n",
              "      <td>0</td>\n",
              "      <td>2354</td>\n",
              "      <td>126</td>\n",
              "      <td>1035</td>\n",
              "      <td>0</td>\n",
              "      <td>0</td>\n",
              "      <td>8</td>\n",
              "      <td>2</td>\n",
              "      <td>1.0</td>\n",
              "      <td>5.0</td>\n",
              "      <td>False</td>\n",
              "    </tr>\n",
              "    <tr>\n",
              "      <th>3</th>\n",
              "      <td>4.247263e+09</td>\n",
              "      <td>4</td>\n",
              "      <td>4</td>\n",
              "      <td>11</td>\n",
              "      <td>0</td>\n",
              "      <td>2387</td>\n",
              "      <td>451</td>\n",
              "      <td>11891</td>\n",
              "      <td>7</td>\n",
              "      <td>1</td>\n",
              "      <td>False</td>\n",
              "      <td>False</td>\n",
              "      <td>False</td>\n",
              "      <td>False</td>\n",
              "      <td>False</td>\n",
              "      <td>False</td>\n",
              "      <td>7911</td>\n",
              "      <td>7770</td>\n",
              "      <td>0</td>\n",
              "      <td>3152</td>\n",
              "      <td>1414</td>\n",
              "      <td>1082</td>\n",
              "      <td>1052</td>\n",
              "      <td>3020</td>\n",
              "      <td>1052</td>\n",
              "      <td>3364</td>\n",
              "      <td>1</td>\n",
              "      <td>4</td>\n",
              "      <td>0</td>\n",
              "      <td>2</td>\n",
              "      <td>2</td>\n",
              "      <td>228</td>\n",
              "      <td>73784</td>\n",
              "      <td>8939</td>\n",
              "      <td>4499</td>\n",
              "      <td>87</td>\n",
              "      <td>5.0</td>\n",
              "      <td>66.0</td>\n",
              "      <td>0</td>\n",
              "      <td>0</td>\n",
              "      <td>...</td>\n",
              "      <td>8100.0</td>\n",
              "      <td>14187</td>\n",
              "      <td>376</td>\n",
              "      <td>20395</td>\n",
              "      <td>0</td>\n",
              "      <td>0</td>\n",
              "      <td>0</td>\n",
              "      <td>0</td>\n",
              "      <td>0</td>\n",
              "      <td>0</td>\n",
              "      <td>0</td>\n",
              "      <td>0</td>\n",
              "      <td>0</td>\n",
              "      <td>0</td>\n",
              "      <td>0</td>\n",
              "      <td>0</td>\n",
              "      <td>5008.0</td>\n",
              "      <td>5008.0</td>\n",
              "      <td>5002.0</td>\n",
              "      <td>10</td>\n",
              "      <td>92237</td>\n",
              "      <td>9670</td>\n",
              "      <td>25363</td>\n",
              "      <td>10056</td>\n",
              "      <td>19</td>\n",
              "      <td>0</td>\n",
              "      <td>0</td>\n",
              "      <td>305</td>\n",
              "      <td>1</td>\n",
              "      <td>0</td>\n",
              "      <td>4265</td>\n",
              "      <td>355</td>\n",
              "      <td>468</td>\n",
              "      <td>0</td>\n",
              "      <td>0</td>\n",
              "      <td>21</td>\n",
              "      <td>4</td>\n",
              "      <td>3.0</td>\n",
              "      <td>5.0</td>\n",
              "      <td>False</td>\n",
              "    </tr>\n",
              "    <tr>\n",
              "      <th>4</th>\n",
              "      <td>4.247263e+09</td>\n",
              "      <td>5</td>\n",
              "      <td>3</td>\n",
              "      <td>10</td>\n",
              "      <td>0</td>\n",
              "      <td>1103</td>\n",
              "      <td>1103</td>\n",
              "      <td>7163</td>\n",
              "      <td>7</td>\n",
              "      <td>0</td>\n",
              "      <td>False</td>\n",
              "      <td>False</td>\n",
              "      <td>False</td>\n",
              "      <td>False</td>\n",
              "      <td>False</td>\n",
              "      <td>False</td>\n",
              "      <td>8815</td>\n",
              "      <td>8855</td>\n",
              "      <td>0</td>\n",
              "      <td>2033</td>\n",
              "      <td>3142</td>\n",
              "      <td>3814</td>\n",
              "      <td>2422</td>\n",
              "      <td>0</td>\n",
              "      <td>3179</td>\n",
              "      <td>3363</td>\n",
              "      <td>1</td>\n",
              "      <td>4</td>\n",
              "      <td>0</td>\n",
              "      <td>3</td>\n",
              "      <td>1</td>\n",
              "      <td>411</td>\n",
              "      <td>3603</td>\n",
              "      <td>2166</td>\n",
              "      <td>5811</td>\n",
              "      <td>0</td>\n",
              "      <td>0.0</td>\n",
              "      <td>0.0</td>\n",
              "      <td>0</td>\n",
              "      <td>0</td>\n",
              "      <td>...</td>\n",
              "      <td>8300.0</td>\n",
              "      <td>75114</td>\n",
              "      <td>12805</td>\n",
              "      <td>9892</td>\n",
              "      <td>0</td>\n",
              "      <td>0</td>\n",
              "      <td>0</td>\n",
              "      <td>0</td>\n",
              "      <td>0</td>\n",
              "      <td>0</td>\n",
              "      <td>0</td>\n",
              "      <td>0</td>\n",
              "      <td>0</td>\n",
              "      <td>0</td>\n",
              "      <td>0</td>\n",
              "      <td>0</td>\n",
              "      <td>5008.0</td>\n",
              "      <td>5008.0</td>\n",
              "      <td>5002.0</td>\n",
              "      <td>20</td>\n",
              "      <td>78732</td>\n",
              "      <td>14972</td>\n",
              "      <td>16243</td>\n",
              "      <td>0</td>\n",
              "      <td>153</td>\n",
              "      <td>0</td>\n",
              "      <td>0</td>\n",
              "      <td>237</td>\n",
              "      <td>0</td>\n",
              "      <td>0</td>\n",
              "      <td>14</td>\n",
              "      <td>0</td>\n",
              "      <td>539</td>\n",
              "      <td>0</td>\n",
              "      <td>0</td>\n",
              "      <td>14</td>\n",
              "      <td>0</td>\n",
              "      <td>7.0</td>\n",
              "      <td>5.0</td>\n",
              "      <td>False</td>\n",
              "    </tr>\n",
              "  </tbody>\n",
              "</table>\n",
              "<p>5 rows × 105 columns</p>\n",
              "</div>"
            ],
            "text/plain": [
              "         gameId  participantId  assists  ...  wardsKilled  wardsPlaced    win\n",
              "0  4.247263e+09              1        3  ...          1.0          6.0  False\n",
              "1  4.247263e+09              2       10  ...          1.0         17.0  False\n",
              "2  4.247263e+09              3        2  ...          1.0          5.0  False\n",
              "3  4.247263e+09              4        4  ...          3.0          5.0  False\n",
              "4  4.247263e+09              5        3  ...          7.0          5.0  False\n",
              "\n",
              "[5 rows x 105 columns]"
            ]
          },
          "metadata": {},
          "execution_count": 29
        }
      ]
    },
    {
      "cell_type": "code",
      "metadata": {
        "colab": {
          "base_uri": "https://localhost:8080/"
        },
        "id": "6atq3Ff6RwU1",
        "outputId": "5d1684f2-ab79-4ca4-cbad-97d5eed51838"
      },
      "source": [
        "data.columns"
      ],
      "execution_count": 30,
      "outputs": [
        {
          "output_type": "execute_result",
          "data": {
            "text/plain": [
              "Index(['gameId', 'participantId', 'assists', 'champLevel', 'combatPlayerScore',\n",
              "       'damageDealtToObjectives', 'damageDealtToTurrets',\n",
              "       'damageSelfMitigated', 'deaths', 'doubleKills',\n",
              "       ...\n",
              "       'trueDamageDealt', 'trueDamageDealtToChampions', 'trueDamageTaken',\n",
              "       'turretKills', 'unrealKills', 'visionScore', 'visionWardsBoughtInGame',\n",
              "       'wardsKilled', 'wardsPlaced', 'win'],\n",
              "      dtype='object', length=105)"
            ]
          },
          "metadata": {},
          "execution_count": 30
        }
      ]
    },
    {
      "cell_type": "code",
      "metadata": {
        "colab": {
          "base_uri": "https://localhost:8080/"
        },
        "id": "8Whpc4ZsRwtf",
        "outputId": "f129c790-d4c4-4327-e266-90516c5b3895"
      },
      "source": [
        "del data\n",
        "\n",
        "import gc\n",
        "gc.collect()"
      ],
      "execution_count": 31,
      "outputs": [
        {
          "output_type": "execute_result",
          "data": {
            "text/plain": [
              "803"
            ]
          },
          "metadata": {},
          "execution_count": 31
        }
      ]
    },
    {
      "cell_type": "code",
      "metadata": {
        "colab": {
          "base_uri": "https://localhost:8080/",
          "height": 764
        },
        "id": "wCHhDkGYRwpz",
        "outputId": "b142c3f5-a1b9-43f0-fb0a-453ab8f229f3"
      },
      "source": [
        "data = pd.read_csv(\"/content/drive/MyDrive/Colab Notebooks/동욱코드모음/마지막프로젝트/3주차/시도/match_data_version1_participant_timeline_info.csv\")\n",
        "data.head(12)"
      ],
      "execution_count": 37,
      "outputs": [
        {
          "output_type": "execute_result",
          "data": {
            "text/html": [
              "<div>\n",
              "<style scoped>\n",
              "    .dataframe tbody tr th:only-of-type {\n",
              "        vertical-align: middle;\n",
              "    }\n",
              "\n",
              "    .dataframe tbody tr th {\n",
              "        vertical-align: top;\n",
              "    }\n",
              "\n",
              "    .dataframe thead th {\n",
              "        text-align: right;\n",
              "    }\n",
              "</style>\n",
              "<table border=\"1\" class=\"dataframe\">\n",
              "  <thead>\n",
              "    <tr style=\"text-align: right;\">\n",
              "      <th></th>\n",
              "      <th>gameId</th>\n",
              "      <th>participantId</th>\n",
              "      <th>role</th>\n",
              "      <th>lane</th>\n",
              "      <th>creepsPerMinDeltas</th>\n",
              "      <th>csDiffPerMinDeltas</th>\n",
              "      <th>xpPerMinDeltas</th>\n",
              "      <th>xpDiffPerMinDeltas</th>\n",
              "      <th>goldPerMinDeltas</th>\n",
              "      <th>damageTakenPerMinDeltas</th>\n",
              "      <th>damageTakenDiffPerMinDeltas</th>\n",
              "    </tr>\n",
              "  </thead>\n",
              "  <tbody>\n",
              "    <tr>\n",
              "      <th>0</th>\n",
              "      <td>4.247263e+09</td>\n",
              "      <td>1</td>\n",
              "      <td>DUO_CARRY</td>\n",
              "      <td>MIDDLE</td>\n",
              "      <td>{'10-20': 6.199999999999999, '0-10': 6.1}</td>\n",
              "      <td>NaN</td>\n",
              "      <td>{'10-20': 473.5, '0-10': 386.6}</td>\n",
              "      <td>NaN</td>\n",
              "      <td>{'10-20': 277, '0-10': 315.6}</td>\n",
              "      <td>{'10-20': 906, '0-10': 473.79999999999995}</td>\n",
              "      <td>NaN</td>\n",
              "    </tr>\n",
              "    <tr>\n",
              "      <th>1</th>\n",
              "      <td>4.247263e+09</td>\n",
              "      <td>2</td>\n",
              "      <td>DUO_SUPPORT</td>\n",
              "      <td>MIDDLE</td>\n",
              "      <td>{'10-20': 0.2, '0-10': 0}</td>\n",
              "      <td>NaN</td>\n",
              "      <td>{'10-20': 368.5, '0-10': 215.1}</td>\n",
              "      <td>NaN</td>\n",
              "      <td>{'10-20': 248, '0-10': 178.7}</td>\n",
              "      <td>{'10-20': 411.4, '0-10': 244.60000000000002}</td>\n",
              "      <td>NaN</td>\n",
              "    </tr>\n",
              "    <tr>\n",
              "      <th>2</th>\n",
              "      <td>4.247263e+09</td>\n",
              "      <td>3</td>\n",
              "      <td>SOLO</td>\n",
              "      <td>TOP</td>\n",
              "      <td>{'10-20': 5.1, '0-10': 6.5}</td>\n",
              "      <td>{'10-20': -2.6, '0-10': -1}</td>\n",
              "      <td>{'10-20': 505.1, '0-10': 437.7}</td>\n",
              "      <td>{'10-20': -88.89999999999998, '0-10': -1.30000...</td>\n",
              "      <td>{'10-20': 437.40000000000003, '0-10': 248.8999...</td>\n",
              "      <td>{'10-20': 1328.8, '0-10': 348.4}</td>\n",
              "      <td>{'10-20': -13.000000000000114, '0-10': -52.400...</td>\n",
              "    </tr>\n",
              "    <tr>\n",
              "      <th>3</th>\n",
              "      <td>4.247263e+09</td>\n",
              "      <td>4</td>\n",
              "      <td>NONE</td>\n",
              "      <td>JUNGLE</td>\n",
              "      <td>{'10-20': 1, '0-10': 0.2}</td>\n",
              "      <td>{'10-20': 0.09999999999999998, '0-10': -0.6000...</td>\n",
              "      <td>{'10-20': 412.3, '0-10': 314.7}</td>\n",
              "      <td>{'10-20': -217.39999999999998, '0-10': 34.1999...</td>\n",
              "      <td>{'10-20': 351.9, '0-10': 239.79999999999998}</td>\n",
              "      <td>{'10-20': 1378.2, '0-10': 800.2}</td>\n",
              "      <td>{'10-20': -38.60000000000002, '0-10': 173.3999...</td>\n",
              "    </tr>\n",
              "    <tr>\n",
              "      <th>4</th>\n",
              "      <td>4.247263e+09</td>\n",
              "      <td>5</td>\n",
              "      <td>SOLO</td>\n",
              "      <td>BOTTOM</td>\n",
              "      <td>{'10-20': 8, '0-10': 7.1}</td>\n",
              "      <td>NaN</td>\n",
              "      <td>{'10-20': 408.2, '0-10': 254.20000000000002}</td>\n",
              "      <td>NaN</td>\n",
              "      <td>{'10-20': 472, '0-10': 254}</td>\n",
              "      <td>{'10-20': 958.4000000000001, '0-10': 503.6}</td>\n",
              "      <td>NaN</td>\n",
              "    </tr>\n",
              "    <tr>\n",
              "      <th>5</th>\n",
              "      <td>4.247263e+09</td>\n",
              "      <td>6</td>\n",
              "      <td>DUO_SUPPORT</td>\n",
              "      <td>BOTTOM</td>\n",
              "      <td>{'10-20': 0.7, '0-10': 0.3}</td>\n",
              "      <td>NaN</td>\n",
              "      <td>{'10-20': 490, '0-10': 327.6}</td>\n",
              "      <td>NaN</td>\n",
              "      <td>{'10-20': 532.4, '0-10': 305.3}</td>\n",
              "      <td>{'10-20': 601, '0-10': 390.5}</td>\n",
              "      <td>NaN</td>\n",
              "    </tr>\n",
              "    <tr>\n",
              "      <th>6</th>\n",
              "      <td>4.247263e+09</td>\n",
              "      <td>7</td>\n",
              "      <td>DUO_CARRY</td>\n",
              "      <td>BOTTOM</td>\n",
              "      <td>{'10-20': 7.6, '0-10': 6.1}</td>\n",
              "      <td>NaN</td>\n",
              "      <td>{'10-20': 508.8, '0-10': 327.9}</td>\n",
              "      <td>NaN</td>\n",
              "      <td>{'10-20': 439.2, '0-10': 330.2}</td>\n",
              "      <td>{'10-20': 604.4, '0-10': 400.20000000000005}</td>\n",
              "      <td>NaN</td>\n",
              "    </tr>\n",
              "    <tr>\n",
              "      <th>7</th>\n",
              "      <td>4.247263e+09</td>\n",
              "      <td>8</td>\n",
              "      <td>SOLO</td>\n",
              "      <td>MIDDLE</td>\n",
              "      <td>{'10-20': 9.8, '0-10': 8.2}</td>\n",
              "      <td>NaN</td>\n",
              "      <td>{'10-20': 582.2, '0-10': 462.2}</td>\n",
              "      <td>NaN</td>\n",
              "      <td>{'10-20': 509.1, '0-10': 364.2}</td>\n",
              "      <td>{'10-20': 643.7, '0-10': 415.9}</td>\n",
              "      <td>NaN</td>\n",
              "    </tr>\n",
              "    <tr>\n",
              "      <th>8</th>\n",
              "      <td>4.247263e+09</td>\n",
              "      <td>9</td>\n",
              "      <td>SOLO</td>\n",
              "      <td>TOP</td>\n",
              "      <td>{'10-20': 7.699999999999999, '0-10': 7.5}</td>\n",
              "      <td>{'10-20': 2.6, '0-10': 1}</td>\n",
              "      <td>{'10-20': 594, '0-10': 439}</td>\n",
              "      <td>{'10-20': 88.89999999999998, '0-10': 1.3000000...</td>\n",
              "      <td>{'10-20': 513, '0-10': 268.1}</td>\n",
              "      <td>{'10-20': 1341.8000000000002, '0-10': 400.8}</td>\n",
              "      <td>{'10-20': 13.000000000000114, '0-10': 52.40000...</td>\n",
              "    </tr>\n",
              "    <tr>\n",
              "      <th>9</th>\n",
              "      <td>4.247263e+09</td>\n",
              "      <td>10</td>\n",
              "      <td>NONE</td>\n",
              "      <td>JUNGLE</td>\n",
              "      <td>{'10-20': 0.8999999999999999, '0-10': 0.8}</td>\n",
              "      <td>{'10-20': -0.09999999999999998, '0-10': 0.6000...</td>\n",
              "      <td>{'10-20': 629.7, '0-10': 280.5}</td>\n",
              "      <td>{'10-20': 217.39999999999998, '0-10': -34.1999...</td>\n",
              "      <td>{'10-20': 520.2, '0-10': 321.9}</td>\n",
              "      <td>{'10-20': 1416.8000000000002, '0-10': 626.8}</td>\n",
              "      <td>{'10-20': 38.60000000000002, '0-10': -173.3999...</td>\n",
              "    </tr>\n",
              "    <tr>\n",
              "      <th>10</th>\n",
              "      <td>4.247156e+09</td>\n",
              "      <td>1</td>\n",
              "      <td>DUO_CARRY</td>\n",
              "      <td>MIDDLE</td>\n",
              "      <td>{'10-20': 7.8, '0-10': 7.5}</td>\n",
              "      <td>NaN</td>\n",
              "      <td>{'10-20': 671.0999999999999, '0-10': 390.1}</td>\n",
              "      <td>NaN</td>\n",
              "      <td>{'10-20': 459.9, '0-10': 253.4}</td>\n",
              "      <td>{'10-20': 936.0999999999999, '0-10': 383.6}</td>\n",
              "      <td>NaN</td>\n",
              "    </tr>\n",
              "    <tr>\n",
              "      <th>11</th>\n",
              "      <td>4.247156e+09</td>\n",
              "      <td>2</td>\n",
              "      <td>NONE</td>\n",
              "      <td>JUNGLE</td>\n",
              "      <td>{'10-20': 1.4, '0-10': 0.3}</td>\n",
              "      <td>{'10-20': 0.7000000000000001, '0-10': 0.099999...</td>\n",
              "      <td>{'10-20': 513, '0-10': 325.1}</td>\n",
              "      <td>{'10-20': 154.9, '0-10': -20.19999999999996}</td>\n",
              "      <td>{'10-20': 454.8, '0-10': 269}</td>\n",
              "      <td>{'10-20': 1047.7, '0-10': 554.9}</td>\n",
              "      <td>{'10-20': -283.2000000000001, '0-10': -217.499...</td>\n",
              "    </tr>\n",
              "  </tbody>\n",
              "</table>\n",
              "</div>"
            ],
            "text/plain": [
              "          gameId  ...                        damageTakenDiffPerMinDeltas\n",
              "0   4.247263e+09  ...                                                NaN\n",
              "1   4.247263e+09  ...                                                NaN\n",
              "2   4.247263e+09  ...  {'10-20': -13.000000000000114, '0-10': -52.400...\n",
              "3   4.247263e+09  ...  {'10-20': -38.60000000000002, '0-10': 173.3999...\n",
              "4   4.247263e+09  ...                                                NaN\n",
              "5   4.247263e+09  ...                                                NaN\n",
              "6   4.247263e+09  ...                                                NaN\n",
              "7   4.247263e+09  ...                                                NaN\n",
              "8   4.247263e+09  ...  {'10-20': 13.000000000000114, '0-10': 52.40000...\n",
              "9   4.247263e+09  ...  {'10-20': 38.60000000000002, '0-10': -173.3999...\n",
              "10  4.247156e+09  ...                                                NaN\n",
              "11  4.247156e+09  ...  {'10-20': -283.2000000000001, '0-10': -217.499...\n",
              "\n",
              "[12 rows x 11 columns]"
            ]
          },
          "metadata": {},
          "execution_count": 37
        }
      ]
    },
    {
      "cell_type": "code",
      "metadata": {
        "colab": {
          "base_uri": "https://localhost:8080/"
        },
        "id": "qkKi9ACHRwm1",
        "outputId": "717f3645-e853-48d4-c8d7-2b08917eecfe"
      },
      "source": [
        "data.info()"
      ],
      "execution_count": 33,
      "outputs": [
        {
          "output_type": "stream",
          "name": "stdout",
          "text": [
            "<class 'pandas.core.frame.DataFrame'>\n",
            "RangeIndex: 1088158 entries, 0 to 1088157\n",
            "Data columns (total 11 columns):\n",
            " #   Column                       Non-Null Count    Dtype  \n",
            "---  ------                       --------------    -----  \n",
            " 0   gameId                       1088158 non-null  float64\n",
            " 1   participantId                1088158 non-null  int64  \n",
            " 2   role                         1088158 non-null  object \n",
            " 3   lane                         1088158 non-null  object \n",
            " 4   creepsPerMinDeltas           1067916 non-null  object \n",
            " 5   csDiffPerMinDeltas           821402 non-null   object \n",
            " 6   xpPerMinDeltas               1067916 non-null  object \n",
            " 7   xpDiffPerMinDeltas           821402 non-null   object \n",
            " 8   goldPerMinDeltas             1067916 non-null  object \n",
            " 9   damageTakenPerMinDeltas      1067916 non-null  object \n",
            " 10  damageTakenDiffPerMinDeltas  821402 non-null   object \n",
            "dtypes: float64(1), int64(1), object(9)\n",
            "memory usage: 91.3+ MB\n"
          ]
        }
      ]
    },
    {
      "cell_type": "code",
      "metadata": {
        "colab": {
          "base_uri": "https://localhost:8080/"
        },
        "id": "Q1pfiYoBTQm9",
        "outputId": "f6214324-a26a-4e7a-e6c3-0e0e8e6c7754"
      },
      "source": [
        "data.columns"
      ],
      "execution_count": 34,
      "outputs": [
        {
          "output_type": "execute_result",
          "data": {
            "text/plain": [
              "Index(['gameId', 'participantId', 'role', 'lane', 'creepsPerMinDeltas',\n",
              "       'csDiffPerMinDeltas', 'xpPerMinDeltas', 'xpDiffPerMinDeltas',\n",
              "       'goldPerMinDeltas', 'damageTakenPerMinDeltas',\n",
              "       'damageTakenDiffPerMinDeltas'],\n",
              "      dtype='object')"
            ]
          },
          "metadata": {},
          "execution_count": 34
        }
      ]
    },
    {
      "cell_type": "code",
      "metadata": {
        "colab": {
          "base_uri": "https://localhost:8080/"
        },
        "id": "JFgjKSk-WCwi",
        "outputId": "1ad1c904-e7a1-4d87-e973-db10322ff123"
      },
      "source": [
        "for col in ('participantId', 'role', 'lane'):\n",
        "    print(f\"{col}: {data[col].unique()}\")\n",
        "    print()"
      ],
      "execution_count": 35,
      "outputs": [
        {
          "output_type": "stream",
          "name": "stdout",
          "text": [
            "participantId: [ 1  2  3  4  5  6  7  8  9 10]\n",
            "\n",
            "role: ['DUO_CARRY' 'DUO_SUPPORT' 'SOLO' 'NONE' 'DUO']\n",
            "\n",
            "lane: ['MIDDLE' 'TOP' 'JUNGLE' 'BOTTOM' 'NONE']\n",
            "\n"
          ]
        }
      ]
    },
    {
      "cell_type": "code",
      "metadata": {
        "id": "4OQ_Qws1WQHP"
      },
      "source": [
        ""
      ],
      "execution_count": null,
      "outputs": []
    }
  ]
}