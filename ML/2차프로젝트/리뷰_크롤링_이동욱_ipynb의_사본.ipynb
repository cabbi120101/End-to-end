{
  "nbformat": 4,
  "nbformat_minor": 0,
  "metadata": {
    "colab": {
      "name": "리뷰 크롤링-이동욱.ipynb의 사본",
      "provenance": [],
      "collapsed_sections": [],
      "include_colab_link": true
    },
    "kernelspec": {
      "display_name": "Python 3",
      "language": "python",
      "name": "python3"
    },
    "language_info": {
      "codemirror_mode": {
        "name": "ipython",
        "version": 3
      },
      "file_extension": ".py",
      "mimetype": "text/x-python",
      "name": "python",
      "nbconvert_exporter": "python",
      "pygments_lexer": "ipython3",
      "version": "3.8.8"
    }
  },
  "cells": [
    {
      "cell_type": "markdown",
      "metadata": {
        "id": "view-in-github",
        "colab_type": "text"
      },
      "source": [
        "<a href=\"https://colab.research.google.com/github/cabbi120101/End-to-end/blob/master/ML/2%EC%B0%A8%ED%94%84%EB%A1%9C%EC%A0%9D%ED%8A%B8/%EB%A6%AC%EB%B7%B0_%ED%81%AC%EB%A1%A4%EB%A7%81_%EC%9D%B4%EB%8F%99%EC%9A%B1_ipynb%EC%9D%98_%EC%82%AC%EB%B3%B8.ipynb\" target=\"_parent\"><img src=\"https://colab.research.google.com/assets/colab-badge.svg\" alt=\"Open In Colab\"/></a>"
      ]
    },
    {
      "cell_type": "code",
      "metadata": {
        "id": "_BXbSQdg5xSO"
      },
      "source": [
        "# pip install selenium"
      ],
      "execution_count": null,
      "outputs": []
    },
    {
      "cell_type": "code",
      "metadata": {
        "id": "MWZ50zQb6ALW"
      },
      "source": [
        "import sys\n",
        "if 'google.colab' in sys.modules:\n",
        "    !apt-get update\n",
        "    !apt install chromium-chromedriver\n",
        "    !cp /usr/lib/chromium-browser/chromedriver /usr/bin\n",
        "    !pip install selenium\n",
        "from selenium import webdriver\n",
        "from selenium.webdriver.common.action_chains import ActionChains\n",
        "from selenium.webdriver.common.keys import Keys\n",
        "options = webdriver.ChromeOptions()\n",
        "options.add_argument('--headless')\n",
        "options.add_argument('--no-sandbox')\n",
        "options.add_argument('--disable-dev-shm-usage')"
      ],
      "execution_count": null,
      "outputs": []
    },
    {
      "cell_type": "code",
      "metadata": {
        "id": "I41cSox6G8TR"
      },
      "source": [
        "options = webdriver.ChromeOptions()\n",
        "options.add_argument('--headless')\n",
        "options.add_argument('--no-sandbox')\n",
        "options.add_argument('--disable-dev-shm-usage')"
      ],
      "execution_count": null,
      "outputs": []
    },
    {
      "cell_type": "code",
      "metadata": {
        "colab": {
          "base_uri": "https://localhost:8080/",
          "height": 1000
        },
        "id": "XqYt_vDu5vlM",
        "outputId": "2adebbf2-5db3-45f7-ca7e-9dc70d4dff2c"
      },
      "source": [
        "import os\n",
        "from time import sleep\n",
        "\n",
        "from selenium import webdriver\n",
        "from selenium.webdriver.common.keys import Keys\n",
        "from selenium.common.exceptions import NoSuchElementException\n",
        "from selenium.common.exceptions import ElementNotInteractableException\n",
        "from selenium.common.exceptions import StaleElementReferenceException\n",
        "from bs4 import BeautifulSoup\n",
        "\n",
        "##############################################################  ############\n",
        "##################### variable related selenium ##########################\n",
        "##########################################################################\n",
        "# options = webdriver.ChromeOptions()\n",
        "# 크롬창(웹드라이버) 열기\n",
        "driver = webdriver.Chrome('chromedriver',options=options)\n",
        "\n",
        "# 구글 지도 접속하기\n",
        "driver.get(\"https://www.google.com/maps/\")\n",
        "# driver.get('https://map.kakao.com/') \n",
        "\n",
        "# 검색창에 \"카페\" 입력하기\n",
        "searchbox = driver.find_element_by_css_selector(\"input#searchboxinput\")\n",
        "searchbox.send_keys(\"place\")\n",
        "\n",
        "# 검색버튼 누르기\n",
        "searchbutton = driver.find_element_by_css_selector(\"button#searchbox-searchbutton\")\n",
        "searchbutton.click()\n",
        "\n",
        "\n",
        "cafe_name = []\n",
        "comment = []\n",
        "point = []\n",
        "\n",
        "def main():\n",
        "    global driver, load_wb, review_num\n",
        "\n",
        "    driver.implicitly_wait(4)  # 렌더링 될때까지 기다린다 4초\n",
        "    driver.get('https://map.kakao.com/')  # 주소 가져오기\n",
        "\n",
        "    # 검색할 목록\n",
        "    place_infos = ['신림 카페 포말 카페']\n",
        "\n",
        "    for i, place in enumerate(place_infos):\n",
        "        # delay\n",
        "        if i % 4 == 0 and i != 0:\n",
        "            sleep(5)\n",
        "        print(\"#####\", i)\n",
        "        search(place)\n",
        "\n",
        "    driver.quit()\n",
        "    print(\"finish\")\n",
        "\n",
        "\n",
        "def search(place):\n",
        "    global driver\n",
        "\n",
        "    search_area = driver.find_element_by_xpath('//*[@id=\"search.keyword.query\"]')  # 검색 창\n",
        "    search_area.send_keys(place)  # 검색어 입력\n",
        "    driver.find_element_by_xpath('//*[@id=\"search.keyword.submit\"]').send_keys(Keys.ENTER)  # Enter로 검색\n",
        "    sleep(1)\n",
        "\n",
        "    # 검색된 정보가 있는 경우에만 탐색\n",
        "    # 1번 페이지 place list 읽기\n",
        "    html = driver.page_source\n",
        "\n",
        "    soup = BeautifulSoup(html, 'html.parser')\n",
        "    place_lists = soup.select('.placelist > .PlaceItem') # 검색된 장소 목록\n",
        "\n",
        "    # 검색된 첫 페이지 장소 목록 크롤링하기\n",
        "    crawling(place, place_lists)\n",
        "    search_area.clear()\n",
        "\n",
        "    # 우선 더보기 클릭해서 2페이지\n",
        "    try:\n",
        "        driver.find_element_by_xpath('//*[@id=\"info.search.place.more\"]').send_keys(Keys.ENTER)\n",
        "        sleep(1)\n",
        "\n",
        "        # 2~ 5페이지 읽기\n",
        "        for i in range(2, 6):\n",
        "            # 페이지 넘기기\n",
        "            xPath = '//*[@id=\"info.search.page.no' + str(i) + '\"]'\n",
        "            driver.find_element_by_xpath(xPath).send_keys(Keys.ENTER)\n",
        "            sleep(1)\n",
        "\n",
        "            html = driver.page_source\n",
        "            soup = BeautifulSoup(html, 'html.parser')\n",
        "            place_lists = soup.select('.placelist > .PlaceItem') # 장소 목록 list\n",
        "\n",
        "            crawling(place, place_lists)\n",
        "\n",
        "    except ElementNotInteractableException:\n",
        "        print('not found')\n",
        "    finally:\n",
        "        search_area.clear()\n",
        "\n",
        "\n",
        "def crawling(place, place_lists):\n",
        "    \"\"\"\n",
        "    페이지 목록을 받아서 크롤링 하는 함수\n",
        "    :param place: 리뷰 정보 찾을 장소이름\n",
        "    \"\"\"\n",
        "\n",
        "    while_flag = False\n",
        "    for i, place in enumerate(place_lists):\n",
        "        # 광고에 따라서 index 조정해야함\n",
        "        if i >= 3:\n",
        "           i += 1\n",
        "\n",
        "        place_name = place.select('.head_item > .tit_name > .link_name')[0].text  # place name\n",
        "        place_address = place.select('.info_item > .addr > p')[0].text  # place address\n",
        "\n",
        "        detail_page_xpath = '//*[@id=\"info.search.place.list\"]/li[' + str(i + 1) + ']/div[5]/div[4]/a[1]'\n",
        "        driver.find_element_by_xpath(detail_page_xpath).send_keys(Keys.ENTER)\n",
        "        driver.switch_to.window(driver.window_handles[-1])  # 상세정보 탭으로 변환\n",
        "        sleep(1)\n",
        "\n",
        "        print('####', place_name)\n",
        "\n",
        "        # 첫 페이지\n",
        "        extract_review(place_name)\n",
        "\n",
        "        # 2-5 페이지\n",
        "        idx = 3\n",
        "        try:\n",
        "            page_num = len(driver.find_elements_by_class_name('link_page')) # 페이지 수 찾기\n",
        "            for i in range(page_num-1):\n",
        "                # css selector를 이용해 페이지 버튼 누르기\n",
        "                driver.find_element_by_css_selector('#mArticle > div.cont_evaluation > div.evaluation_review > div > a:nth-child(' + str(idx) +')').send_keys(Keys.ENTER)\n",
        "                sleep(1)\n",
        "                extract_review(place_name)\n",
        "                idx += 1\n",
        "            driver.find_element_by_link_text('다음').send_keys(Keys.ENTER) # 5페이지가 넘는 경우 다음 버튼 누르기\n",
        "            sleep(1)\n",
        "            extract_review(place_name) # 리뷰 추출\n",
        "        except (NoSuchElementException, ElementNotInteractableException):\n",
        "            print(\"no review in crawling\")\n",
        "\n",
        "        # 그 이후 페이지\n",
        "        while True:\n",
        "            idx = 4\n",
        "            try:\n",
        "                page_num = len(driver.find_elements_by_class_name('link_page'))\n",
        "                for i in range(page_num-1):\n",
        "                    driver.find_element_by_css_selector('#mArticle > div.cont_evaluation > div.evaluation_review > div > a:nth-child(' + str(idx) +')').send_keys(Keys.ENTER)\n",
        "                    sleep(1)\n",
        "                    extract_review(place_name)\n",
        "                    idx += 1\n",
        "                driver.find_element_by_link_text('다음').send_keys(Keys.ENTER) # 10페이지 이상으로 넘어가기 위한 다음 버튼 클릭\n",
        "                sleep(1)\n",
        "                extract_review(place_name) # 리뷰 추출\n",
        "            except (NoSuchElementException, ElementNotInteractableException):\n",
        "                print(\"no review in crawling\")\n",
        "                break\n",
        "\n",
        "        driver.close()\n",
        "        driver.switch_to.window(driver.window_handles[0])  # 검색 탭으로 전환\n",
        "\n",
        "\n",
        "def extract_review(place_name):\n",
        "    global driver\n",
        "\n",
        "    ret = True\n",
        "\n",
        "    html = driver.page_source\n",
        "    soup = BeautifulSoup(html, 'html.parser')\n",
        "\n",
        "    # 첫 페이지 리뷰 목록 찾기\n",
        "    review_lists = soup.select('.list_evaluation > li')\n",
        "\n",
        "    # 리뷰가 있는 경우\n",
        "    if len(review_lists) != 0:\n",
        "        for i, review in enumerate(review_lists):\n",
        "            comment = review.select('.txt_comment > span') # 리뷰\n",
        "            rating = review.select('.grade_star > em') # 별점\n",
        "            val = ''\n",
        "            if len(comment) != 0:\n",
        "                if len(rating) != 0:\n",
        "                    val = comment[0].text + '/' + rating[0].text.replace('점', '')\n",
        "                else:\n",
        "                    val = comment[0].text + '/0'\n",
        "                    \n",
        "                comment.append(comment[0].text)\n",
        "                print(val)\n",
        "\n",
        "    else:\n",
        "        print('no review in extract')\n",
        "        ret = False\n",
        "\n",
        "    return ret\n",
        "\n",
        "\n",
        "if __name__ == \"__main__\":\n",
        "    main()"
      ],
      "execution_count": null,
      "outputs": [
        {
          "output_type": "stream",
          "text": [
            "##### 0\n",
            "#### 포말커피\n",
            "지옥신림의 마지막 피난처/5\n",
            "극장 의자라니 신기해. 냉침 밀크티를 바나나빈 얼음과 함께 주신다. 맛있게 마시고 막판에 얼음 으깨서 쉐이크로 먹었다. 조명과 음악까지 완벽./5\n",
            "솔까 여기 카페 개지림, 개좋음 강추/5\n",
            "아메리카노랑 아인슈페너 둘 다 맛있었어요. 아인슈페너는 가격이 좀 많이 비싸네요. 실내 분위기 너무 좋아요. 입구쪽에 데코가 몰려있어서 안쪽 자리에는 상대적으로 데코가 없어서 밋밋한 공간으로 보이네요./4\n",
            "아니 사장님!! 왜!! 커피도 잘하시고 베이킹도 잘하세요?! 반칙반칙 ;) 말차쿠키 넘나 굿굿/5\n",
            "맛있어요!!!!!친절합니다./5\n",
            "카페라떼 말차쿠키 맛나요 카페분위기도좋고 직원분들 친절하세요/5\n",
            "카페라떼도 맛있고 말차 스콘도 맛있네요! 카페 분위기도 좋숩니다/5\n",
            "/5\n",
            "/5\n",
            "나만 알고 싶었는데 이젠 너무 유명해졌..... 디저트도 너무 맛있어요!/5\n",
            "새로나온 디저트들도 맛있고 커피도 맛있고 신림가면 꼭 가는 카페/5\n",
            "신림 카페 중 제일  디저트 맛있음 좌석 수가 적은건 아쉽/5\n",
            "구조가 특이하고 음료맛은 무난/4\n",
            "친절하시고 맛있음 /5\n",
            "/5\n",
            "세번갔는데 갈때마다 플랫화이트 마시는데 커피맛이 달라요 ㅠㅠ/4\n",
            "커피맛도 너무좋고 사장님도 친절하세요 숨은 아지트입니다/5\n",
            "서비스 태도 불량/1\n",
            "분위기 좋아요. 커피도 맛있다는/5\n",
            "20대에서 30대 여성분들 취향을 잘 아시는 것 같아여 자리가 널널한 편은 아니지만 커피도 괜찮고 사장님도 착하셨어요 노래 취향도 너무 좋았네욤 헤헤/5\n",
            "/5\n",
            "아주 친절하시고 커피도 맛있어요:)  조금 시끄러워요! 흡음이 안되나봐요ㅜㅜ  /4\n",
            "분위기 굿/5\n",
            "포말커피 짱맛... 테이크아웃하면 천원 할인해 줍니다. 지금도 참 좋지만 커피와 잘 어울리는 디저트 종류가 몇 가지 더 생겼으면 좋겠어요./5\n",
            "/5\n",
            "포말커피로 놀로오세요^^/5\n",
            "no review in crawling\n",
            "not found\n",
            "finish\n"
          ],
          "name": "stdout"
        }
      ]
    },
    {
      "cell_type": "code",
      "metadata": {
        "id": "KOMPfzZj-51R",
        "outputId": "42536f6f-f7ea-4ee4-b136-6fd747cb57dc"
      },
      "source": [
        "result"
      ],
      "execution_count": null,
      "outputs": [
        {
          "output_type": "execute_result",
          "data": {
            "text/plain": [
              "['지옥신림의 마지막 피난처',\n",
              " '극장 의자라니 신기해. 냉침 밀크티를 바나나빈 얼음과 함께 주신다. 맛있게 마시고 막판에 얼음 으깨서 쉐이크로 먹었다. 조명과 음악까지 완벽.',\n",
              " '솔까 여기 카페 개지림, 개좋음 강추',\n",
              " '아메리카노랑 아인슈페너 둘 다 맛있었어요. 아인슈페너는 가격이 좀 많이 비싸네요. 실내 분위기 너무 좋아요. 입구쪽에 데코가 몰려있어서 안쪽 자리에는 상대적으로 데코가 없어서 밋밋한 공간으로 보이네요.',\n",
              " '아니 사장님!! 왜!! 커피도 잘하시고 베이킹도 잘하세요?! 반칙반칙 ;) 말차쿠키 넘나 굿굿',\n",
              " '맛있어요!!!!!친절합니다.',\n",
              " '카페라떼 말차쿠키 맛나요 카페분위기도좋고 직원분들 친절하세요',\n",
              " '카페라떼도 맛있고 말차 스콘도 맛있네요! 카페 분위기도 좋숩니다',\n",
              " '',\n",
              " '',\n",
              " '나만 알고 싶었는데 이젠 너무 유명해졌..... 디저트도 너무 맛있어요!',\n",
              " '새로나온 디저트들도 맛있고 커피도 맛있고 신림가면 꼭 가는 카페',\n",
              " '신림 카페 중 제일  디저트 맛있음 좌석 수가 적은건 아쉽',\n",
              " '구조가 특이하고 음료맛은 무난',\n",
              " '친절하시고 맛있음 ',\n",
              " '',\n",
              " '세번갔는데 갈때마다 플랫화이트 마시는데 커피맛이 달라요 ㅠㅠ',\n",
              " '커피맛도 너무좋고 사장님도 친절하세요 숨은 아지트입니다',\n",
              " '서비스 태도 불량',\n",
              " '분위기 좋아요. 커피도 맛있다는',\n",
              " '20대에서 30대 여성분들 취향을 잘 아시는 것 같아여 자리가 널널한 편은 아니지만 커피도 괜찮고 사장님도 착하셨어요 노래 취향도 너무 좋았네욤 헤헤',\n",
              " '',\n",
              " '아주 친절하시고 커피도 맛있어요:)  조금 시끄러워요! 흡음이 안되나봐요ㅜㅜ  ',\n",
              " '분위기 굿',\n",
              " '포말커피 짱맛... 테이크아웃하면 천원 할인해 줍니다. 지금도 참 좋지만 커피와 잘 어울리는 디저트 종류가 몇 가지 더 생겼으면 좋겠어요.',\n",
              " '',\n",
              " '포말커피로 놀로오세요^^']"
            ]
          },
          "metadata": {
            "tags": []
          },
          "execution_count": 9
        }
      ]
    },
    {
      "cell_type": "code",
      "metadata": {
        "id": "CUoHZYh__AvY"
      },
      "source": [
        ""
      ],
      "execution_count": null,
      "outputs": []
    },
    {
      "cell_type": "code",
      "metadata": {
        "id": "JEMoKcvX_a6O"
      },
      "source": [
        ""
      ],
      "execution_count": null,
      "outputs": []
    },
    {
      "cell_type": "code",
      "metadata": {
        "id": "WZHejdZ-54H7",
        "outputId": "d6cd7e76-20cb-4db0-8940-c4eb5ccdb9c0"
      },
      "source": [
        ""
      ],
      "execution_count": null,
      "outputs": [
        {
          "output_type": "stream",
          "text": [
            "지옥신림의 마지막 피난처\n",
            "극장 의자라니 신기해. 냉침 밀크티를 바나나빈 얼음과 함께 주신다. 맛있게 마시고 막판에 얼음 으깨서 쉐이크로 먹었다. 조명과 음악까지 완벽.\n",
            "솔까 여기 카페 개지림, 개좋음 강추\n",
            "아메리카노랑 아인슈페너 둘 다 맛있었어요. 아인슈페너는 가격이 좀 많이 비싸네요. 실내 분위기 너무 좋아요. 입구쪽에 데코가 몰려있어서 안쪽 자리에는 상대적으로 데코가 없어서 밋밋한 공간으로 보이네요.\n",
            "아니 사장님!! 왜!! 커피도 잘하시고 베이킹도 잘하세요?! 반칙반칙 ;) 말차쿠키 넘나 굿굿\n",
            "맛있어요!!!!!친절합니다.\n",
            "카페라떼 말차쿠키 맛나요 카페분위기도좋고 직원분들 친절하세요\n",
            "카페라떼도 맛있고 말차 스콘도 맛있네요! 카페 분위기도 좋숩니다\n",
            "\n",
            "\n",
            "나만 알고 싶었는데 이젠 너무 유명해졌..... 디저트도 너무 맛있어요!\n",
            "새로나온 디저트들도 맛있고 커피도 맛있고 신림가면 꼭 가는 카페\n",
            "신림 카페 중 제일  디저트 맛있음 좌석 수가 적은건 아쉽\n",
            "구조가 특이하고 음료맛은 무난\n",
            "친절하시고 맛있음 \n",
            "\n",
            "세번갔는데 갈때마다 플랫화이트 마시는데 커피맛이 달라요 ㅠㅠ\n",
            "커피맛도 너무좋고 사장님도 친절하세요 숨은 아지트입니다\n",
            "서비스 태도 불량\n",
            "분위기 좋아요. 커피도 맛있다는\n",
            "20대에서 30대 여성분들 취향을 잘 아시는 것 같아여 자리가 널널한 편은 아니지만 커피도 괜찮고 사장님도 착하셨어요 노래 취향도 너무 좋았네욤 헤헤\n",
            "\n",
            "아주 친절하시고 커피도 맛있어요:)  조금 시끄러워요! 흡음이 안되나봐요ㅜㅜ  \n",
            "분위기 굿\n",
            "포말커피 짱맛... 테이크아웃하면 천원 할인해 줍니다. 지금도 참 좋지만 커피와 잘 어울리는 디저트 종류가 몇 가지 더 생겼으면 좋겠어요.\n",
            "\n",
            "포말커피로 놀로오세요^^\n"
          ],
          "name": "stdout"
        }
      ]
    },
    {
      "cell_type": "code",
      "metadata": {
        "id": "pbxFxVyIB-KV",
        "outputId": "5193d90d-0dc2-4908-8fdb-811a9e11093a"
      },
      "source": [
        ""
      ],
      "execution_count": null,
      "outputs": [
        {
          "output_type": "execute_result",
          "data": {
            "text/plain": [
              "['지옥신림의 마지막 피난처',\n",
              " '극장 의자라니 신기해. 냉침 밀크티를 바나나빈 얼음과 함께 주신다. 맛있게 마시고 막판에 얼음 으깨서 쉐이크로 먹었다. 조명과 음악까지 완벽.',\n",
              " '솔까 여기 카페 개지림, 개좋음 강추',\n",
              " '아메리카노랑 아인슈페너 둘 다 맛있었어요. 아인슈페너는 가격이 좀 많이 비싸네요. 실내 분위기 너무 좋아요. 입구쪽에 데코가 몰려있어서 안쪽 자리에는 상대적으로 데코가 없어서 밋밋한 공간으로 보이네요.',\n",
              " '아니 사장님!! 왜!! 커피도 잘하시고 베이킹도 잘하세요?! 반칙반칙 ;) 말차쿠키 넘나 굿굿',\n",
              " '맛있어요!!!!!친절합니다.',\n",
              " '카페라떼 말차쿠키 맛나요 카페분위기도좋고 직원분들 친절하세요',\n",
              " '카페라떼도 맛있고 말차 스콘도 맛있네요! 카페 분위기도 좋숩니다',\n",
              " '',\n",
              " '',\n",
              " '나만 알고 싶었는데 이젠 너무 유명해졌..... 디저트도 너무 맛있어요!',\n",
              " '새로나온 디저트들도 맛있고 커피도 맛있고 신림가면 꼭 가는 카페',\n",
              " '신림 카페 중 제일  디저트 맛있음 좌석 수가 적은건 아쉽',\n",
              " '구조가 특이하고 음료맛은 무난',\n",
              " '친절하시고 맛있음 ',\n",
              " '',\n",
              " '세번갔는데 갈때마다 플랫화이트 마시는데 커피맛이 달라요 ㅠㅠ',\n",
              " '커피맛도 너무좋고 사장님도 친절하세요 숨은 아지트입니다',\n",
              " '서비스 태도 불량',\n",
              " '분위기 좋아요. 커피도 맛있다는',\n",
              " '20대에서 30대 여성분들 취향을 잘 아시는 것 같아여 자리가 널널한 편은 아니지만 커피도 괜찮고 사장님도 착하셨어요 노래 취향도 너무 좋았네욤 헤헤',\n",
              " '',\n",
              " '아주 친절하시고 커피도 맛있어요:)  조금 시끄러워요! 흡음이 안되나봐요ㅜㅜ  ',\n",
              " '분위기 굿',\n",
              " '포말커피 짱맛... 테이크아웃하면 천원 할인해 줍니다. 지금도 참 좋지만 커피와 잘 어울리는 디저트 종류가 몇 가지 더 생겼으면 좋겠어요.',\n",
              " '',\n",
              " '포말커피로 놀로오세요^^']"
            ]
          },
          "metadata": {
            "tags": []
          },
          "execution_count": 13
        }
      ]
    },
    {
      "cell_type": "code",
      "metadata": {
        "id": "3bV2cK6pA5nQ"
      },
      "source": [
        ""
      ],
      "execution_count": null,
      "outputs": []
    },
    {
      "cell_type": "code",
      "metadata": {
        "id": "vxzbzsgDB4VB"
      },
      "source": [
        ""
      ],
      "execution_count": null,
      "outputs": []
    }
  ]
}